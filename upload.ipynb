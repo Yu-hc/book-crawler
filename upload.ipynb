{
 "cells": [
  {
   "cell_type": "markdown",
   "metadata": {},
   "source": [
    "## import modules"
   ]
  },
  {
   "cell_type": "code",
   "execution_count": 2,
   "metadata": {},
   "outputs": [],
   "source": [
    "import pandas as pd\n",
    "import numpy as np\n",
    "import redis"
   ]
  },
  {
   "cell_type": "markdown",
   "metadata": {},
   "source": [
    "## set up connection"
   ]
  },
  {
   "cell_type": "code",
   "execution_count": 17,
   "metadata": {},
   "outputs": [],
   "source": [
    "# 連接到 Redis 資料庫\n",
    "r = redis.Redis(\n",
    "  host='helpful-mako-37953.upstash.io',\n",
    "  port=6379,\n",
    "  password='AZRBAAIncDEzNDZlNjU0YTViNDE0YmE4YmQ4YWJkZjE1MjU3ZmU2NnAxMzc5NTM',\n",
    "  ssl=True\n",
    ")\n"
   ]
  },
  {
   "cell_type": "markdown",
   "metadata": {},
   "source": [
    "## upload function"
   ]
  },
  {
   "cell_type": "code",
   "execution_count": 18,
   "metadata": {},
   "outputs": [],
   "source": [
    "def upload_to_redis(hash_name, hash_data):\n",
    "       global r\n",
    "       r.hmset(hash_name, hash_data)"
   ]
  },
  {
   "cell_type": "markdown",
   "metadata": {},
   "source": [
    "## load csv to df"
   ]
  },
  {
   "cell_type": "code",
   "execution_count": 28,
   "metadata": {},
   "outputs": [],
   "source": [
    "df = pd.read_csv('out.csv')\n"
   ]
  },
  {
   "cell_type": "markdown",
   "metadata": {},
   "source": [
    "## apple upload to df"
   ]
  },
  {
   "cell_type": "code",
   "execution_count": 29,
   "metadata": {},
   "outputs": [
    {
     "name": "stderr",
     "output_type": "stream",
     "text": [
      "/var/folders/jd/741sx0vn7h98nzy_4kpsbgg40000gn/T/ipykernel_96085/826898432.py:3: DeprecationWarning: Redis.hmset() is deprecated. Use Redis.hset() instead.\n",
      "  r.hmset(hash_name, hash_data)\n"
     ]
    }
   ],
   "source": [
    "for i in range(len(df)):\n",
    "       hash_name = 'book:'+ str(df.iloc[i]['isbn'])\n",
    "       hash_data = {\n",
    "              \"name\": df.iloc[i]['name'],\n",
    "              \"author\": df.iloc[i]['author'],\n",
    "              \"publisher\" : df.iloc[i]['publisher'],\n",
    "              \"date\" : df.iloc[i]['date'],\n",
    "              \"cover\" : df.iloc[i]['cover'],\n",
    "              \"place\" : df.iloc[i]['place']\n",
    "       }\n",
    "       upload_to_redis(hash_name=hash_name, hash_data= hash_data)\n",
    "       # print(hash_name, hash_data)"
   ]
  },
  {
   "cell_type": "markdown",
   "metadata": {},
   "source": [
    "## reset db"
   ]
  },
  {
   "cell_type": "code",
   "execution_count": 27,
   "metadata": {},
   "outputs": [
    {
     "data": {
      "text/plain": [
       "True"
      ]
     },
     "execution_count": 27,
     "metadata": {},
     "output_type": "execute_result"
    }
   ],
   "source": [
    "r.flushdb()"
   ]
  }
 ],
 "metadata": {
  "kernelspec": {
   "display_name": ".venv",
   "language": "python",
   "name": "python3"
  },
  "language_info": {
   "codemirror_mode": {
    "name": "ipython",
    "version": 3
   },
   "file_extension": ".py",
   "mimetype": "text/x-python",
   "name": "python",
   "nbconvert_exporter": "python",
   "pygments_lexer": "ipython3",
   "version": "3.12.5"
  }
 },
 "nbformat": 4,
 "nbformat_minor": 2
}
