{
 "cells": [
  {
   "cell_type": "markdown",
   "metadata": {},
   "source": [
    "## Web crawler\n"
   ]
  },
  {
   "cell_type": "markdown",
   "metadata": {},
   "source": [
    "import modules\n"
   ]
  },
  {
   "cell_type": "code",
   "execution_count": 21,
   "metadata": {},
   "outputs": [],
   "source": [
    "from selenium import webdriver\n",
    "from selenium.webdriver.common.keys import Keys\n",
    "from selenium.webdriver.chrome.service import Service\n",
    "from selenium.webdriver.common.by import By\n",
    "from selenium.webdriver.support.ui import Select\n",
    "from selenium.webdriver.support import expected_conditions as EC\n",
    "from selenium.webdriver.support.wait import WebDriverWait\n",
    "\n",
    "\n",
    "import time\n",
    "import numpy as np\n",
    "import pandas as pd\n",
    "import pickle"
   ]
  },
  {
   "cell_type": "markdown",
   "metadata": {},
   "source": [
    "initialize args\n"
   ]
  },
  {
   "cell_type": "code",
   "execution_count": 4,
   "metadata": {},
   "outputs": [],
   "source": [
    "service = Service()\n",
    "options = webdriver.ChromeOptions()\n",
    "prefs = {'profile.default_content_setting_values': {'cookies': 2, 'images': 2, 'javascript': 2, \n",
    "                            'plugins': 2, 'popups': 2, 'geolocation': 2, \n",
    "                            'notifications': 2, 'auto_select_certificate': 2, 'fullscreen': 2, \n",
    "                            'mouselock': 2, 'mixed_script': 2, 'media_stream': 2, \n",
    "                            'media_stream_mic': 2, 'media_stream_camera': 2, 'protocol_handlers': 2, \n",
    "                            'ppapi_broker': 2, 'automatic_downloads': 2, 'midi_sysex': 2, \n",
    "                            'push_messaging': 2, 'ssl_cert_decisions': 2, 'metro_switch_to_desktop': 2, \n",
    "                            'protected_media_identifier': 2, 'app_banner': 2, 'site_engagement': 2, \n",
    "                            'durable_storage': 2}}\n",
    "options.add_experimental_option('prefs', prefs)\n",
    "options.page_load_strategy = 'eager'\n",
    "\n",
    "options.add_argument('--headless')  # 啟動Headless 無頭\n",
    "\n"
   ]
  },
  {
   "cell_type": "markdown",
   "metadata": {},
   "source": [
    "extract publisher, creator, year from raw data\n"
   ]
  },
  {
   "cell_type": "code",
   "execution_count": 5,
   "metadata": {},
   "outputs": [],
   "source": [
    "def process_rawData(creatorRaw, publisherRaw):\n",
    "       creator = creatorRaw.removesuffix(', 著')\n",
    "       split = publisherRaw.split(',')\n",
    "       year = split[-1]\n",
    "       year = year.split('[')[0]\n",
    "       publisher = split[0].split(':')[-1].replace('\\n', ' ')\n",
    "       publisher = publisher.removeprefix(' ')\n",
    "       \n",
    "       return creator, publisher, year\n",
    "       "
   ]
  },
  {
   "cell_type": "markdown",
   "metadata": {},
   "source": [
    "crawler function\n"
   ]
  },
  {
   "cell_type": "code",
   "execution_count": 31,
   "metadata": {},
   "outputs": [],
   "source": [
    "def crawl_book(bookTitle):\n",
    "       driver = webdriver.Chrome(service=service, options=options)\n",
    "       wait = WebDriverWait(driver, timeout=10, poll_frequency=1)\n",
    "       baseUrl = 'https://metadata.ncl.edu.tw/blstkmc/blstkm#tudorkmtop'\n",
    "       driver.get(baseUrl)\n",
    "       \n",
    "       # set search configs\n",
    "       x1 = '/html/body/form/table/tbody/tr[2]/td/table/tbody/tr/td[2]/table[1]/tbody/tr[2]/td/table/tbody/tr[2]/td[1]/select'\n",
    "       select = Select(wait.until(\n",
    "                     EC.presence_of_element_located((By.XPATH, x1))\n",
    "                     ))\n",
    "       select.select_by_value('n_TI')\n",
    "       x2 = '/html/body/form/table/tbody/tr[2]/td/table/tbody/tr/td[2]/table[1]/tbody/tr[2]/td/table/tbody/tr[2]/td[2]/select'\n",
    "       select = Select(driver.find_element(By.XPATH, x2))\n",
    "       select.select_by_value('C')\n",
    "       # enter book name\n",
    "       x3 = '//*[@id=\"hotname\"]'\n",
    "       query = driver.find_element(By.XPATH, x3)\n",
    "       query.clear()\n",
    "       query.send_keys(bookTitle)\n",
    "       # press search\n",
    "       x4 = '/html/body/form/table/tbody/tr[2]/td/table/tbody/tr/td[2]/table[1]/tbody/tr[2]/td/table/tbody/tr[5]/td/input[1]'\n",
    "       searchBtn = wait.until(\n",
    "                     EC.presence_of_element_located((By.XPATH, x4))\n",
    "                     )\n",
    "       searchBtn.click()\n",
    "       \n",
    "       \n",
    "       try:\n",
    "              # sort by year , ascending\n",
    "              x6 = '/html/body/form/table/tbody/tr[2]/td/table/tbody/tr/td[2]/table/tbody/tr[4]/td[1]/table/tbody/tr/td[3]/table/tbody/tr/td[2]/select'\n",
    "              select = Select( wait.until(\n",
    "                     EC.presence_of_element_located((By.XPATH, x6))\n",
    "              ))\n",
    "              select.select_by_value('YR')\n",
    "              x7 = '/html/body/form/table/tbody/tr[2]/td/table/tbody/tr/td[2]/table/tbody/tr[4]/td[1]/table/tbody/tr/td[3]/table/tbody/tr/td[3]/select'\n",
    "              select = Select( wait.until(\n",
    "                     EC.presence_of_element_located((By.XPATH, x7))\n",
    "              ))\n",
    "              select.select_by_value('0')\n",
    "              x8 = '/html/body/form/table/tbody/tr[2]/td/table/tbody/tr/td[2]/table/tbody/tr[4]/td[1]/table/tbody/tr/td[2]/input'\n",
    "              sortBtn =  wait.until(\n",
    "                     EC.presence_of_element_located((By.XPATH, x8))\n",
    "              )\n",
    "              sortBtn.click()\n",
    "              \n",
    "              xCreator = '/html/body/form/table/tbody/tr[2]/td/table/tbody/tr/td[2]/table/tbody/tr[5]/td/table/tbody/tr[2]/td[3]'\n",
    "              xPublisher  = '/html/body/form/table/tbody/tr[2]/td/table/tbody/tr/td[2]/table/tbody/tr[5]/td/table/tbody/tr[2]/td[4]'\n",
    "              creatorRaw =   wait.until(\n",
    "                     EC.presence_of_element_located((By.XPATH, xCreator))\n",
    "              ).text\n",
    "              publisherRaw =  wait.until(\n",
    "                     EC.presence_of_element_located((By.XPATH, xPublisher))\n",
    "              ).text\n",
    "              creator, publisher, year = process_rawData(creatorRaw, publisherRaw)\n",
    "       except:\n",
    "              creator, publisher, year = 'error', 'error', 'error'\n",
    "              print('error', bookTitle)  \n",
    "       driver.close()  \n",
    "       \n",
    "       return pd.Series( [bookTitle, creator, publisher, year], index=['title','creator','publisher','year'])\n"
   ]
  },
  {
   "cell_type": "markdown",
   "metadata": {},
   "source": [
    "test one book "
   ]
  },
  {
   "cell_type": "code",
   "execution_count": 32,
   "metadata": {},
   "outputs": [
    {
     "data": {
      "text/plain": [
       "title           三體\n",
       "creator        劉慈欣\n",
       "publisher      貓頭鷹\n",
       "year          2023\n",
       "dtype: object"
      ]
     },
     "execution_count": 32,
     "metadata": {},
     "output_type": "execute_result"
    }
   ],
   "source": [
    "crawl_book('三體')"
   ]
  },
  {
   "cell_type": "code",
   "execution_count": 16,
   "metadata": {},
   "outputs": [
    {
     "name": "stdout",
     "output_type": "stream",
     "text": [
      "0               龍鱗焰火\n",
      "1               龍族秘錄\n",
      "2              黑暗的左手\n",
      "3               黃海童話\n",
      "4        非理性時代 牛頓加農砲\n",
      "           ...      \n",
      "496        [簡]納米魔幻兵團\n",
      "497    [簡]現代中國科幻文學主潮\n",
      "498     黃禍 3/3黃禍反撲世界\n",
      "499     黃禍 1/3大陸內戰爆發\n",
      "500    黃禍  2/3台灣生死存亡\n",
      "Name: 書名, Length: 501, dtype: object\n"
     ]
    }
   ],
   "source": [
    "df = pd.read_csv('書籍.csv')\n",
    "df = df.dropna().reset_index()\n",
    "print(df['書名'])"
   ]
  },
  {
   "cell_type": "code",
   "execution_count": 17,
   "metadata": {},
   "outputs": [],
   "source": [
    "errorIndex = []\n",
    "start = 0\n",
    "checkpoint = 50\n",
    "new_df = pd.DataFrame()"
   ]
  },
  {
   "cell_type": "code",
   "execution_count": 33,
   "metadata": {},
   "outputs": [
    {
     "name": "stdout",
     "output_type": "stream",
     "text": [
      "error 衛斯理回憶錄7瀰散\n",
      "\n",
      "done50/100.error 衛斯理回憶錄2同位\n",
      ".error 衛斯理回憶錄1錯構\n",
      ".....error 蘋果核戰 vo.1-vo.3\n",
      "...\n",
      "done60/100....error 艾西莫夫科普教室 (下)\n",
      ".error 艾西莫夫科普教室 (上)\n",
      ".error 艾西莫夫 科普教室 (中)\n",
      ".error 臺灣科幻文學薪火錄(1956~2005)\n",
      "...\n",
      "done70/100.error 群（上／下）\n",
      "..error 美洲來的哥倫布\n",
      "..error 縱橫X檔案 (下)\n",
      ".error 縱橫X檔案 (上)\n",
      "....\n",
      "done80/100.error 第五類接觸 世界科幻文學簡史\n",
      ".....error 穿越時空3000年 (下)\n",
      ".error 穿越時空3000年 (上)\n",
      ".error 空想科學讀本6\n",
      ".error 空想科學讀本4\n",
      ".error 空想科學讀本3\n",
      "\n",
      "done90/100.error 空想科學讀本2\n",
      ".error 空想科學讀本2\n",
      ".error 空想科學讀本1\n",
      "...error 科幻電影的預言與真實\n",
      "..error 科幻文學論鋼\n",
      ".."
     ]
    }
   ],
   "source": [
    "for i in range(start, start+checkpoint):\n",
    "      series = crawl_book(df['書名'][i])\n",
    "      if(series['creator']== 'error'):\n",
    "            errorIndex.append(i) \n",
    "      new_df = pd.concat([new_df, series],axis=1)\n",
    "      if(i%10 == 0):\n",
    "            if(i!=0): \n",
    "                  print()\n",
    "            print(f'done{i}/{start+checkpoint}', end = '')      \n",
    "      print('.', end = '')\n",
    "\n",
    "new_df.to_csv(f'./csv/{start}-{start+checkpoint}.csv')\n",
    "start+=checkpoint\n"
   ]
  },
  {
   "cell_type": "code",
   "execution_count": 34,
   "metadata": {},
   "outputs": [
    {
     "name": "stdout",
     "output_type": "stream",
     "text": [
      "[20, 27, 30, 35, 36, 47, 48, 49, 50, 51, 52, 57, 64, 65, 66, 71, 73, 75, 76, 80, 81, 86, 50, 51, 52, 57, 64, 65, 66, 67, 71, 73, 75, 76, 81, 86, 87, 88, 89, 90, 91, 92, 93, 96, 98]\n"
     ]
    }
   ],
   "source": [
    "print(errorIndex)"
   ]
  },
  {
   "cell_type": "code",
   "execution_count": 35,
   "metadata": {},
   "outputs": [],
   "source": [
    "\n",
    "with open(f'./var/var{start-checkpoint}-{start}.pkl', 'wb') as f:  # Python 3: open(..., 'wb')\n",
    "    pickle.dump([start, checkpoint, errorIndex, new_df], f)\n",
    "\n",
    "# Getting back the objects:\n"
   ]
  },
  {
   "cell_type": "code",
   "execution_count": null,
   "metadata": {},
   "outputs": [],
   "source": [
    "with open(f'./var/var{start-checkpoint}-{start}.pkl', 'rb') as f:  # Python 3: open(..., 'rb')\n",
    "    start,checkpoint,errorIndex = pickle.load(f)"
   ]
  }
 ],
 "metadata": {
  "kernelspec": {
   "display_name": ".venv",
   "language": "python",
   "name": "python3"
  },
  "language_info": {
   "codemirror_mode": {
    "name": "ipython",
    "version": 3
   },
   "file_extension": ".py",
   "mimetype": "text/x-python",
   "name": "python",
   "nbconvert_exporter": "python",
   "pygments_lexer": "ipython3",
   "version": "3.12.3"
  }
 },
 "nbformat": 4,
 "nbformat_minor": 2
}
