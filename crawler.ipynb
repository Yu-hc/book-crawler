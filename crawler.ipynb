{
 "cells": [
  {
   "cell_type": "markdown",
   "metadata": {},
   "source": [
    "## Web crawler\n"
   ]
  },
  {
   "cell_type": "markdown",
   "metadata": {},
   "source": [
    "import modules\n"
   ]
  },
  {
   "cell_type": "code",
   "execution_count": 5,
   "metadata": {},
   "outputs": [],
   "source": [
    "from selenium import webdriver\n",
    "from selenium.webdriver.common.keys import Keys\n",
    "from selenium.webdriver.chrome.service import Service\n",
    "from selenium.webdriver.common.by import By\n",
    "from selenium.webdriver.support.ui import Select\n",
    "from selenium.webdriver.support import expected_conditions as EC\n",
    "from selenium.webdriver.support.wait import WebDriverWait\n",
    "\n",
    "from fake_useragent import UserAgent\n",
    "\n",
    "\n",
    "\n",
    "\n",
    "import time\n",
    "import numpy as np\n",
    "import pandas as pd\n",
    "import pickle\n",
    "import csv\n",
    "import redis\n",
    "import requests"
   ]
  },
  {
   "cell_type": "markdown",
   "metadata": {},
   "source": [
    "initialize args\n"
   ]
  },
  {
   "cell_type": "code",
   "execution_count": 7,
   "metadata": {},
   "outputs": [],
   "source": [
    "service = Service()\n",
    "options = webdriver.ChromeOptions()\n",
    "options.page_load_strategy = 'eager'\n",
    "options.add_argument(\"--enable-javascript\")\n",
    "\n",
    "ua = UserAgent()\n",
    "user_agent = ua.random\n",
    "options.add_argument(f'--user-agent={user_agent}')\n",
    "# options.add_argument('--headless')  # 啟動Headless 無頭\n",
    "\n"
   ]
  },
  {
   "cell_type": "code",
   "execution_count": null,
   "metadata": {},
   "outputs": [],
   "source": []
  },
  {
   "cell_type": "markdown",
   "metadata": {},
   "source": [
    "extract publisher, creator, year from raw data\n"
   ]
  },
  {
   "cell_type": "code",
   "execution_count": 3,
   "metadata": {},
   "outputs": [],
   "source": [
    "def process_rawData(creatorRaw, publisherRaw):\n",
    "       creator = creatorRaw.removesuffix(', 著')\n",
    "       split = publisherRaw.split(',')\n",
    "       year = split[-1]\n",
    "       year = year.split('[')[0]\n",
    "       publisher = split[0].split(':')[-1].replace('\\n', ' ')\n",
    "       publisher = publisher.removeprefix(' ')\n",
    "       \n",
    "       return creator, publisher, year\n",
    "       "
   ]
  },
  {
   "cell_type": "markdown",
   "metadata": {},
   "source": [
    "crawler function\n"
   ]
  },
  {
   "cell_type": "code",
   "execution_count": 4,
   "metadata": {},
   "outputs": [],
   "source": [
    "def crawl_book(bookTitle):\n",
    "       driver = webdriver.Chrome(service=service, options=options)\n",
    "       wait = WebDriverWait(driver, timeout=10, poll_frequency=1)\n",
    "       baseUrl = 'https://metadata.ncl.edu.tw/blstkmc/blstkm#tudorkmtop'\n",
    "       driver.get(baseUrl)\n",
    "       \n",
    "       # set search configs\n",
    "       x1 = '/html/body/form/table/tbody/tr[2]/td/table/tbody/tr/td[2]/table[1]/tbody/tr[2]/td/table/tbody/tr[2]/td[1]/select'\n",
    "       select = Select(wait.until(\n",
    "                     EC.presence_of_element_located((By.XPATH, x1))\n",
    "                     ))\n",
    "       select.select_by_value('n_TI')\n",
    "       x2 = '/html/body/form/table/tbody/tr[2]/td/table/tbody/tr/td[2]/table[1]/tbody/tr[2]/td/table/tbody/tr[2]/td[2]/select'\n",
    "       select = Select(driver.find_element(By.XPATH, x2))\n",
    "       select.select_by_value('C')\n",
    "       # enter book name\n",
    "       x3 = '//*[@id=\"hotname\"]'\n",
    "       query = driver.find_element(By.XPATH, x3)\n",
    "       query.clear()\n",
    "       query.send_keys(bookTitle)\n",
    "       # press search\n",
    "       x4 = '/html/body/form/table/tbody/tr[2]/td/table/tbody/tr/td[2]/table[1]/tbody/tr[2]/td/table/tbody/tr[5]/td/input[1]'\n",
    "       searchBtn = wait.until(\n",
    "                     EC.presence_of_element_located((By.XPATH, x4))\n",
    "                     )\n",
    "       searchBtn.click()\n",
    "       \n",
    "       \n",
    "       try:\n",
    "              # sort by year , ascending\n",
    "              x6 = '/html/body/form/table/tbody/tr[2]/td/table/tbody/tr/td[2]/table/tbody/tr[4]/td[1]/table/tbody/tr/td[3]/table/tbody/tr/td[2]/select'\n",
    "              select = Select( wait.until(\n",
    "                     EC.presence_of_element_located((By.XPATH, x6))\n",
    "              ))\n",
    "              select.select_by_value('YR')\n",
    "              x7 = '/html/body/form/table/tbody/tr[2]/td/table/tbody/tr/td[2]/table/tbody/tr[4]/td[1]/table/tbody/tr/td[3]/table/tbody/tr/td[3]/select'\n",
    "              select = Select( wait.until(\n",
    "                     EC.presence_of_element_located((By.XPATH, x7))\n",
    "              ))\n",
    "              select.select_by_value('0')\n",
    "              x8 = '/html/body/form/table/tbody/tr[2]/td/table/tbody/tr/td[2]/table/tbody/tr[4]/td[1]/table/tbody/tr/td[2]/input'\n",
    "              sortBtn =  wait.until(\n",
    "                     EC.presence_of_element_located((By.XPATH, x8))\n",
    "              )\n",
    "              sortBtn.click()\n",
    "              \n",
    "              xCreator = '/html/body/form/table/tbody/tr[2]/td/table/tbody/tr/td[2]/table/tbody/tr[5]/td/table/tbody/tr[2]/td[3]'\n",
    "              xPublisher  = '/html/body/form/table/tbody/tr[2]/td/table/tbody/tr/td[2]/table/tbody/tr[5]/td/table/tbody/tr[2]/td[4]'\n",
    "              creatorRaw =   wait.until(\n",
    "                     EC.presence_of_element_located((By.XPATH, xCreator))\n",
    "              ).text\n",
    "              publisherRaw =  wait.until(\n",
    "                     EC.presence_of_element_located((By.XPATH, xPublisher))\n",
    "              ).text\n",
    "              creator, publisher, year = process_rawData(creatorRaw, publisherRaw)\n",
    "       except:\n",
    "              creator, publisher, year = 'error', 'error', 'error'\n",
    "              print('error', bookTitle)  \n",
    "       driver.close()  \n",
    "       \n",
    "       return pd.Series( [bookTitle, creator, publisher, year], index=['title','creator','publisher','year'])\n"
   ]
  },
  {
   "cell_type": "markdown",
   "metadata": {},
   "source": [
    "test one book "
   ]
  },
  {
   "cell_type": "code",
   "execution_count": 8,
   "metadata": {},
   "outputs": [
    {
     "data": {
      "text/plain": [
       "title           三體\n",
       "creator        劉慈欣\n",
       "publisher      貓頭鷹\n",
       "year          2023\n",
       "dtype: object"
      ]
     },
     "execution_count": 8,
     "metadata": {},
     "output_type": "execute_result"
    }
   ],
   "source": [
    "crawl_book('三體')"
   ]
  },
  {
   "cell_type": "code",
   "execution_count": 26,
   "metadata": {},
   "outputs": [
    {
     "name": "stdout",
     "output_type": "stream",
     "text": [
      "0               龍鱗焰火\n",
      "1               龍族秘錄\n",
      "2              黑暗的左手\n",
      "3               黃海童話\n",
      "4        非理性時代 牛頓加農砲\n",
      "           ...      \n",
      "496        [簡]納米魔幻兵團\n",
      "497    [簡]現代中國科幻文學主潮\n",
      "498     黃禍 3/3黃禍反撲世界\n",
      "499     黃禍 1/3大陸內戰爆發\n",
      "500    黃禍  2/3台灣生死存亡\n",
      "Name: 書名, Length: 501, dtype: object\n"
     ]
    }
   ],
   "source": [
    "df = pd.read_csv('書籍.csv')\n",
    "df = df.dropna().reset_index()\n",
    "print(df['書名'])"
   ]
  },
  {
   "cell_type": "code",
   "execution_count": 7,
   "metadata": {},
   "outputs": [],
   "source": [
    "errorIndex = []\n",
    "start = 400\n",
    "checkpoint = 50\n",
    "new_df = pd.DataFrame()"
   ]
  },
  {
   "cell_type": "code",
   "execution_count": 8,
   "metadata": {},
   "outputs": [
    {
     "name": "stdout",
     "output_type": "stream",
     "text": [
      "error Star Trek the Next Generation: Perchance to Dream\n",
      "\n",
      "done400/450.error Star Trek the Next Generation: Metamorphosis\n",
      ".error Star Trek the Next Generation: Doomsday World\n",
      ".error Star Trek the Next Generation: Contamination\n",
      ".error Star Trek the Next Generation: Chains of Command\n",
      ".error Star Trek the Next Generation Immortal Coil\n",
      ".error Star Trek the Next Generation Gateway\n",
      ".error Star Trek S.C.E. Book Two\n",
      ".error Star Trek S.C.E. Book One\n",
      ".error STAR TREK Roleplaying Game Player`s Guide\n",
      ".error Star Trek Roleplaying Game Narrator's Guide\n",
      "\n",
      "done410/450.error Star Trek ds9\n",
      ".error Star Trek Deep Space 9: Avatar Book Two\n",
      ".error Star Trek Deep Space 9: Avatar Book One\n",
      ".error Star Trek Deep Space 9 Section 31\n",
      ".error Star Trek Cookbook\n",
      ".....\n",
      "done420/450....error Science Fiction SF: The Illustrated Encyclopedia\n",
      ".error Science Fiction of the 20th Century\n",
      ".error Robots and Aliens\n",
      ".error Robot City Book 5\n",
      ".error Robot City Book 4 Prodigy\n",
      ".error Robot City Book 2 Supicion\n",
      ".\n",
      "done430/450..error Quotable STAR TREK\n",
      ".error Probaility Moon Nancy Kress\n",
      ".error PROBABILITY SUN\n",
      ".error PROBABILITY SPACE\n",
      ".error Positronic Man\n",
      ".error Norby through Time and Space\n",
      "."
     ]
    },
    {
     "ename": "ElementNotInteractableException",
     "evalue": "Message: element not interactable\n  (Session info: chrome-headless-shell=127.0.6533.120)\nStacktrace:\n0   chromedriver                        0x0000000104d85024 cxxbridge1$str$ptr + 1887276\n1   chromedriver                        0x0000000104d7d700 cxxbridge1$str$ptr + 1856264\n2   chromedriver                        0x000000010498c694 cxxbridge1$string$len + 88116\n3   chromedriver                        0x00000001049d1860 cxxbridge1$string$len + 371200\n4   chromedriver                        0x00000001049c73a8 cxxbridge1$string$len + 329032\n5   chromedriver                        0x00000001049c6e38 cxxbridge1$string$len + 327640\n6   chromedriver                        0x0000000104a0848c cxxbridge1$string$len + 595500\n7   chromedriver                        0x00000001049c5474 cxxbridge1$string$len + 321044\n8   chromedriver                        0x00000001049c60e4 cxxbridge1$string$len + 324228\n9   chromedriver                        0x0000000104d4ca08 cxxbridge1$str$ptr + 1656336\n10  chromedriver                        0x0000000104d51464 cxxbridge1$str$ptr + 1675372\n11  chromedriver                        0x0000000104d328ec cxxbridge1$str$ptr + 1549556\n12  chromedriver                        0x0000000104d51c14 cxxbridge1$str$ptr + 1677340\n13  chromedriver                        0x0000000104d245fc cxxbridge1$str$ptr + 1491460\n14  chromedriver                        0x0000000104d6ea5c cxxbridge1$str$ptr + 1795684\n15  chromedriver                        0x0000000104d6ebd8 cxxbridge1$str$ptr + 1796064\n16  chromedriver                        0x0000000104d7d334 cxxbridge1$str$ptr + 1855292\n17  libsystem_pthread.dylib             0x0000000189897034 _pthread_start + 136\n18  libsystem_pthread.dylib             0x0000000189891e3c thread_start + 8\n",
     "output_type": "error",
     "traceback": [
      "\u001b[0;31m---------------------------------------------------------------------------\u001b[0m",
      "\u001b[0;31mElementNotInteractableException\u001b[0m           Traceback (most recent call last)",
      "Cell \u001b[0;32mIn[8], line 2\u001b[0m\n\u001b[1;32m      1\u001b[0m \u001b[38;5;28;01mfor\u001b[39;00m i \u001b[38;5;129;01min\u001b[39;00m \u001b[38;5;28mrange\u001b[39m(start, start\u001b[38;5;241m+\u001b[39mcheckpoint):\n\u001b[0;32m----> 2\u001b[0m       series \u001b[38;5;241m=\u001b[39m \u001b[43mcrawl_book\u001b[49m\u001b[43m(\u001b[49m\u001b[43mdf\u001b[49m\u001b[43m[\u001b[49m\u001b[38;5;124;43m'\u001b[39;49m\u001b[38;5;124;43m書名\u001b[39;49m\u001b[38;5;124;43m'\u001b[39;49m\u001b[43m]\u001b[49m\u001b[43m[\u001b[49m\u001b[43mi\u001b[49m\u001b[43m]\u001b[49m\u001b[43m)\u001b[49m\n\u001b[1;32m      3\u001b[0m       \u001b[38;5;28;01mif\u001b[39;00m(series[\u001b[38;5;124m'\u001b[39m\u001b[38;5;124mcreator\u001b[39m\u001b[38;5;124m'\u001b[39m]\u001b[38;5;241m==\u001b[39m \u001b[38;5;124m'\u001b[39m\u001b[38;5;124merror\u001b[39m\u001b[38;5;124m'\u001b[39m):\n\u001b[1;32m      4\u001b[0m             errorIndex\u001b[38;5;241m.\u001b[39mappend(i) \n",
      "Cell \u001b[0;32mIn[4], line 26\u001b[0m, in \u001b[0;36mcrawl_book\u001b[0;34m(bookTitle)\u001b[0m\n\u001b[1;32m     22\u001b[0m x4 \u001b[38;5;241m=\u001b[39m \u001b[38;5;124m'\u001b[39m\u001b[38;5;124m/html/body/form/table/tbody/tr[2]/td/table/tbody/tr/td[2]/table[1]/tbody/tr[2]/td/table/tbody/tr[5]/td/input[1]\u001b[39m\u001b[38;5;124m'\u001b[39m\n\u001b[1;32m     23\u001b[0m searchBtn \u001b[38;5;241m=\u001b[39m wait\u001b[38;5;241m.\u001b[39muntil(\n\u001b[1;32m     24\u001b[0m               EC\u001b[38;5;241m.\u001b[39mpresence_of_element_located((By\u001b[38;5;241m.\u001b[39mXPATH, x4))\n\u001b[1;32m     25\u001b[0m               )\n\u001b[0;32m---> 26\u001b[0m \u001b[43msearchBtn\u001b[49m\u001b[38;5;241;43m.\u001b[39;49m\u001b[43mclick\u001b[49m\u001b[43m(\u001b[49m\u001b[43m)\u001b[49m\n\u001b[1;32m     29\u001b[0m \u001b[38;5;28;01mtry\u001b[39;00m:\n\u001b[1;32m     30\u001b[0m        \u001b[38;5;66;03m# sort by year , ascending\u001b[39;00m\n\u001b[1;32m     31\u001b[0m        x6 \u001b[38;5;241m=\u001b[39m \u001b[38;5;124m'\u001b[39m\u001b[38;5;124m/html/body/form/table/tbody/tr[2]/td/table/tbody/tr/td[2]/table/tbody/tr[4]/td[1]/table/tbody/tr/td[3]/table/tbody/tr/td[2]/select\u001b[39m\u001b[38;5;124m'\u001b[39m\n",
      "File \u001b[0;32m~/files/com/book-crawler/.venv/lib/python3.12/site-packages/selenium/webdriver/remote/webelement.py:94\u001b[0m, in \u001b[0;36mWebElement.click\u001b[0;34m(self)\u001b[0m\n\u001b[1;32m     92\u001b[0m \u001b[38;5;28;01mdef\u001b[39;00m \u001b[38;5;21mclick\u001b[39m(\u001b[38;5;28mself\u001b[39m) \u001b[38;5;241m-\u001b[39m\u001b[38;5;241m>\u001b[39m \u001b[38;5;28;01mNone\u001b[39;00m:\n\u001b[1;32m     93\u001b[0m \u001b[38;5;250m    \u001b[39m\u001b[38;5;124;03m\"\"\"Clicks the element.\"\"\"\u001b[39;00m\n\u001b[0;32m---> 94\u001b[0m     \u001b[38;5;28;43mself\u001b[39;49m\u001b[38;5;241;43m.\u001b[39;49m\u001b[43m_execute\u001b[49m\u001b[43m(\u001b[49m\u001b[43mCommand\u001b[49m\u001b[38;5;241;43m.\u001b[39;49m\u001b[43mCLICK_ELEMENT\u001b[49m\u001b[43m)\u001b[49m\n",
      "File \u001b[0;32m~/files/com/book-crawler/.venv/lib/python3.12/site-packages/selenium/webdriver/remote/webelement.py:395\u001b[0m, in \u001b[0;36mWebElement._execute\u001b[0;34m(self, command, params)\u001b[0m\n\u001b[1;32m    393\u001b[0m     params \u001b[38;5;241m=\u001b[39m {}\n\u001b[1;32m    394\u001b[0m params[\u001b[38;5;124m\"\u001b[39m\u001b[38;5;124mid\u001b[39m\u001b[38;5;124m\"\u001b[39m] \u001b[38;5;241m=\u001b[39m \u001b[38;5;28mself\u001b[39m\u001b[38;5;241m.\u001b[39m_id\n\u001b[0;32m--> 395\u001b[0m \u001b[38;5;28;01mreturn\u001b[39;00m \u001b[38;5;28;43mself\u001b[39;49m\u001b[38;5;241;43m.\u001b[39;49m\u001b[43m_parent\u001b[49m\u001b[38;5;241;43m.\u001b[39;49m\u001b[43mexecute\u001b[49m\u001b[43m(\u001b[49m\u001b[43mcommand\u001b[49m\u001b[43m,\u001b[49m\u001b[43m \u001b[49m\u001b[43mparams\u001b[49m\u001b[43m)\u001b[49m\n",
      "File \u001b[0;32m~/files/com/book-crawler/.venv/lib/python3.12/site-packages/selenium/webdriver/remote/webdriver.py:354\u001b[0m, in \u001b[0;36mWebDriver.execute\u001b[0;34m(self, driver_command, params)\u001b[0m\n\u001b[1;32m    352\u001b[0m response \u001b[38;5;241m=\u001b[39m \u001b[38;5;28mself\u001b[39m\u001b[38;5;241m.\u001b[39mcommand_executor\u001b[38;5;241m.\u001b[39mexecute(driver_command, params)\n\u001b[1;32m    353\u001b[0m \u001b[38;5;28;01mif\u001b[39;00m response:\n\u001b[0;32m--> 354\u001b[0m     \u001b[38;5;28;43mself\u001b[39;49m\u001b[38;5;241;43m.\u001b[39;49m\u001b[43merror_handler\u001b[49m\u001b[38;5;241;43m.\u001b[39;49m\u001b[43mcheck_response\u001b[49m\u001b[43m(\u001b[49m\u001b[43mresponse\u001b[49m\u001b[43m)\u001b[49m\n\u001b[1;32m    355\u001b[0m     response[\u001b[38;5;124m\"\u001b[39m\u001b[38;5;124mvalue\u001b[39m\u001b[38;5;124m\"\u001b[39m] \u001b[38;5;241m=\u001b[39m \u001b[38;5;28mself\u001b[39m\u001b[38;5;241m.\u001b[39m_unwrap_value(response\u001b[38;5;241m.\u001b[39mget(\u001b[38;5;124m\"\u001b[39m\u001b[38;5;124mvalue\u001b[39m\u001b[38;5;124m\"\u001b[39m, \u001b[38;5;28;01mNone\u001b[39;00m))\n\u001b[1;32m    356\u001b[0m     \u001b[38;5;28;01mreturn\u001b[39;00m response\n",
      "File \u001b[0;32m~/files/com/book-crawler/.venv/lib/python3.12/site-packages/selenium/webdriver/remote/errorhandler.py:229\u001b[0m, in \u001b[0;36mErrorHandler.check_response\u001b[0;34m(self, response)\u001b[0m\n\u001b[1;32m    227\u001b[0m         alert_text \u001b[38;5;241m=\u001b[39m value[\u001b[38;5;124m\"\u001b[39m\u001b[38;5;124malert\u001b[39m\u001b[38;5;124m\"\u001b[39m]\u001b[38;5;241m.\u001b[39mget(\u001b[38;5;124m\"\u001b[39m\u001b[38;5;124mtext\u001b[39m\u001b[38;5;124m\"\u001b[39m)\n\u001b[1;32m    228\u001b[0m     \u001b[38;5;28;01mraise\u001b[39;00m exception_class(message, screen, stacktrace, alert_text)  \u001b[38;5;66;03m# type: ignore[call-arg]  # mypy is not smart enough here\u001b[39;00m\n\u001b[0;32m--> 229\u001b[0m \u001b[38;5;28;01mraise\u001b[39;00m exception_class(message, screen, stacktrace)\n",
      "\u001b[0;31mElementNotInteractableException\u001b[0m: Message: element not interactable\n  (Session info: chrome-headless-shell=127.0.6533.120)\nStacktrace:\n0   chromedriver                        0x0000000104d85024 cxxbridge1$str$ptr + 1887276\n1   chromedriver                        0x0000000104d7d700 cxxbridge1$str$ptr + 1856264\n2   chromedriver                        0x000000010498c694 cxxbridge1$string$len + 88116\n3   chromedriver                        0x00000001049d1860 cxxbridge1$string$len + 371200\n4   chromedriver                        0x00000001049c73a8 cxxbridge1$string$len + 329032\n5   chromedriver                        0x00000001049c6e38 cxxbridge1$string$len + 327640\n6   chromedriver                        0x0000000104a0848c cxxbridge1$string$len + 595500\n7   chromedriver                        0x00000001049c5474 cxxbridge1$string$len + 321044\n8   chromedriver                        0x00000001049c60e4 cxxbridge1$string$len + 324228\n9   chromedriver                        0x0000000104d4ca08 cxxbridge1$str$ptr + 1656336\n10  chromedriver                        0x0000000104d51464 cxxbridge1$str$ptr + 1675372\n11  chromedriver                        0x0000000104d328ec cxxbridge1$str$ptr + 1549556\n12  chromedriver                        0x0000000104d51c14 cxxbridge1$str$ptr + 1677340\n13  chromedriver                        0x0000000104d245fc cxxbridge1$str$ptr + 1491460\n14  chromedriver                        0x0000000104d6ea5c cxxbridge1$str$ptr + 1795684\n15  chromedriver                        0x0000000104d6ebd8 cxxbridge1$str$ptr + 1796064\n16  chromedriver                        0x0000000104d7d334 cxxbridge1$str$ptr + 1855292\n17  libsystem_pthread.dylib             0x0000000189897034 _pthread_start + 136\n18  libsystem_pthread.dylib             0x0000000189891e3c thread_start + 8\n"
     ]
    }
   ],
   "source": [
    "for i in range(start, start+checkpoint):\n",
    "      series = crawl_book(df['書名'][i])\n",
    "      if(series['creator']== 'error'):\n",
    "            errorIndex.append(i) \n",
    "      new_df = pd.concat([new_df, series],axis=1)\n",
    "      if(i%10 == 0):\n",
    "            if(i!=0): \n",
    "                  print()\n",
    "            print(f'done{i}/{start+checkpoint}', end = '')      \n",
    "      print('.', end = '')\n",
    "\n",
    "new_df.to_csv(f'./csv/{start}-{start+checkpoint}.csv')\n",
    "start+=checkpoint\n"
   ]
  },
  {
   "cell_type": "code",
   "execution_count": 34,
   "metadata": {},
   "outputs": [],
   "source": [
    "errorIndex=[]\n",
    "new_df=pd.DataFrame()"
   ]
  },
  {
   "cell_type": "markdown",
   "metadata": {},
   "source": [
    "save var"
   ]
  },
  {
   "cell_type": "code",
   "execution_count": 32,
   "metadata": {},
   "outputs": [],
   "source": [
    "with open(f'./var/var{start-checkpoint}-{start}.pkl', 'wb') as f:  # Python 3: open(..., 'wb')\n",
    "    pickle.dump([start, checkpoint, errorIndex, new_df], f)"
   ]
  },
  {
   "cell_type": "markdown",
   "metadata": {},
   "source": [
    "load var"
   ]
  },
  {
   "cell_type": "code",
   "execution_count": 33,
   "metadata": {},
   "outputs": [],
   "source": [
    "with open(f'./var/var{start-checkpoint}-{start}.pkl', 'rb') as f:  # Python 3: open(..., 'rb')\n",
    "    start,checkpoint,errorIndex,new_df_ = pickle.load(f)"
   ]
  },
  {
   "cell_type": "markdown",
   "metadata": {},
   "source": [
    "### combine data"
   ]
  },
  {
   "cell_type": "code",
   "execution_count": 97,
   "metadata": {},
   "outputs": [
    {
     "name": "stdout",
     "output_type": "stream",
     "text": [
      "                         0      1                   2          3\n",
      "0                     龍鱗焰火   希爾 著                奇幻基地       2018\n",
      "0.1                   龍族秘錄    蘇逸平              中國社會科學      2001.\n",
      "0.2                  黑暗的左手  勒瑰恩 著                木馬文化       2020\n",
      "0.3                   黃海童話    黃炳煌                  九歌   20061010\n",
      "0.4            非理性時代 牛頓加農砲  堪易士 著  奇幻基地出版 家庭傳媒城邦分公司發行     民97.04\n",
      "...                    ...    ...                 ...        ...\n",
      "0.45          TNG: KAHLESS  error               error      error\n",
      "0.46           TNG: IMZADI  error               error      error\n",
      "0.47  TNG: FORTUNE'S LIGHT  error               error      error\n",
      "0.48     TNG: DESCENT (兩本)  error               error      error\n",
      "0.49      TNG: DARK MIRROR  error               error      error\n",
      "\n",
      "[437 rows x 4 columns]\n"
     ]
    }
   ],
   "source": [
    "df_ = pd.DataFrame()\n",
    "for i in range(7):\n",
    "       s = i*50\n",
    "       e = s+50\n",
    "       df_ =  pd.concat([df_,pd.read_csv(f'./csv/{s}-{e}.csv').transpose()[1:]])\n",
    "print(df_)\n",
    "\n",
    "              \n",
    "       "
   ]
  },
  {
   "cell_type": "code",
   "execution_count": 127,
   "metadata": {},
   "outputs": [
    {
     "name": "stdout",
     "output_type": "stream",
     "text": [
      "希爾 著\n",
      "     index             書名               ISBN          位置  \\\n",
      "0        0           龍鱗焰火        9.78987E+12          未知   \n",
      "1        1           龍族秘錄      957-569-247-0  公關－會長－美工用具   \n",
      "2        2          黑暗的左手      986-7399-03-X        艾波小姐   \n",
      "3        3           黃海童話      957-444-348-5  公關－會長－美工用具   \n",
      "4        4    非理性時代 牛頓加農砲  978-986-6712-14-2         大書櫃   \n",
      "..     ...            ...                ...         ...   \n",
      "496    525      [簡]納米魔幻兵團  978-7-5379-7075-4        艾波小姐   \n",
      "497    526  [簡]現代中國科幻文學主潮  978-7-5366-9443-9        艾波小姐   \n",
      "498    527   黃禍 3/3黃禍反撲世界      957-645-715-7        艾波小姐   \n",
      "499    528   黃禍 1/3大陸內戰爆發      957-645-713-0        艾波小姐   \n",
      "500    529  黃禍  2/3台灣生死存亡      957-645-714-9        艾波小姐   \n",
      "\n",
      "                                                   url creator  \\\n",
      "0          https://cdn.cite.com.tw/images/1/1HB109.jpg    希爾 著   \n",
      "1    https://upload.wikimedia.org/wikipedia/zh/9/90...     蘇逸平   \n",
      "2    https://img1.doubanio.com/view/subject/m/publi...   勒瑰恩 著   \n",
      "3    https://im2.book.com.tw/image/getImage?i=https...     黃炳煌   \n",
      "4    https://s.eslite.dev/Upload/Product/200804/o/6...   堪易士 著   \n",
      "..                                                 ...     ...   \n",
      "496  data:image/jpeg;base64,/9j/4AAQSkZJRgABAQAAAQA...     NaN   \n",
      "497  https://cimg.fx361.com/images/2021/06/27/qkima...     NaN   \n",
      "498  https://media.taaze.tw/showThumbnailByPk.html?...     NaN   \n",
      "499  https://media.taaze.tw/showThumbnailByPk.html?...     NaN   \n",
      "500  https://www.eastbooks.com.tw/images/upload/pro...     NaN   \n",
      "\n",
      "              publisher       year  \n",
      "0                  奇幻基地       2018  \n",
      "1                中國社會科學      2001.  \n",
      "2                  木馬文化       2020  \n",
      "3                    九歌   20061010  \n",
      "4    奇幻基地出版 家庭傳媒城邦分公司發行     民97.04  \n",
      "..                  ...        ...  \n",
      "496                 NaN        NaN  \n",
      "497                 NaN        NaN  \n",
      "498                 NaN        NaN  \n",
      "499                 NaN        NaN  \n",
      "500                 NaN        NaN  \n",
      "\n",
      "[501 rows x 8 columns]\n"
     ]
    }
   ],
   "source": [
    "row, column = df_.shape\n",
    "\n",
    "print(df_.values[0][1])\n",
    "for i in range(row):\n",
    "      \n",
    "       df.loc[df['書名']==df_.values[i][0],'creator'] = df_.values[i][1]\n",
    "       df.loc[df['書名']==df_.values[i][0],'publisher'] = df_.values[i][2]\n",
    "       df.loc[df['書名']==df_.values[i][0],'year'] = df_.values[i][3]\n",
    "print(df)\n",
    "df.to_excel('out.xlsx')"
   ]
  },
  {
   "cell_type": "code",
   "execution_count": 6,
   "metadata": {},
   "outputs": [
    {
     "name": "stderr",
     "output_type": "stream",
     "text": [
      "/var/folders/jd/741sx0vn7h98nzy_4kpsbgg40000gn/T/ipykernel_83950/3375802425.py:18: DeprecationWarning: Redis.hmset() is deprecated. Use Redis.hset() instead.\n",
      "  r.hmset(hash_name, hash_data)\n"
     ]
    },
    {
     "name": "stdout",
     "output_type": "stream",
     "text": [
      "{b'cover': b'https://cdn.cite.com.tw/images/a/A1010261.jpg', b'id': b'9789863840053', b'name': b'\\xe6\\xa5\\xb5\\xe9\\x99\\x90  \\xe4\\xb8\\x8a'}\n"
     ]
    }
   ],
   "source": [
    "\n",
    "\n",
    "# 連接到 Redis 資料庫\n",
    "r = redis.Redis(\n",
    "  host='helpful-mako-37953.upstash.io',\n",
    "  port=6379,\n",
    "  password='AZRBAAIncDEzNDZlNjU0YTViNDE0YmE4YmQ4YWJkZjE1MjU3ZmU2NnAxMzc5NTM',\n",
    "  ssl=True\n",
    ")\n",
    "\n",
    "# 定義要上傳的 hash 資料\n",
    "hash_name = \"book:9789863840053\"\n",
    "hash_data = {\n",
    "    \"name\": \"極限  上\",\n",
    "    \"cover\": \"https://cdn.cite.com.tw/images/a/A1010261.jpg\",\n",
    "    \"id\": \"9789863840053\"\n",
    "}\n",
    "\n",
    "# 上傳 hash 資料到 Redis\n",
    "r.hmset(hash_name, hash_data)\n",
    "\n",
    "# 驗證資料是否上傳成功\n",
    "retrieved_data = r.hgetall(hash_name)\n",
    "print(retrieved_data)"
   ]
  },
  {
   "cell_type": "code",
   "execution_count": 11,
   "metadata": {},
   "outputs": [],
   "source": [
    "def crawl_book_isbn(isbn):\n",
    "    # Initialize Chrome WebDriver\n",
    "    driver = webdriver.Chrome(service=service, options=options)\n",
    "    wait = WebDriverWait(driver, 10)\n",
    "    baseUrl = 'https://isbn.ncl.edu.tw/NEW_ISBNNet/H30_SearchBooks.php?&Pact=DisplayAll4Simple'\n",
    "    \n",
    "    try:\n",
    "        driver.get(baseUrl)\n",
    "        # driver.implicitly_wait(5)\n",
    "        driver.maximize_window()\n",
    "        \n",
    "        \n",
    "        navbar_button = wait.until(EC.element_to_be_clickable((By.XPATH, '/html/body/nav/div/div[2]/ul[1]/li[3]/a')))\n",
    "        navbar_button.click()\n",
    "\n",
    "        # Wait for the dropdown to be visible and select ISBN\n",
    "        select_element = wait.until(EC.visibility_of_element_located((By.XPATH, '//*[@id=\"FO_SearchField0\"]')))\n",
    "        select = Select(select_element)\n",
    "        select.select_by_value('ISBN')\n",
    "\n",
    "        # Enter the ISBN value\n",
    "        search_input = wait.until(EC.element_to_be_clickable((By.XPATH, '//*[@id=\"FO_SearchValue0\"]')))\n",
    "        search_input.clear()\n",
    "        search_input.send_keys(isbn)\n",
    "\n",
    "        # Click the search button\n",
    "        search_button = wait.until(EC.element_to_be_clickable((By.XPATH, '/html/body/section/div/div/div[2]/div[2]/form[1]/div[2]/a')))\n",
    "        search_button.click()\n",
    "        \n",
    "        xName = '//*[@id=\"ResultBox\"]/table/tbody/tr[2]/td[3]/a'\n",
    "        xCreator = '//*[@id=\"ResultBox\"]/table/tbody/tr[2]/td[4]'\n",
    "        xPublisher  = '//*[@id=\"ResultBox\"]/table/tbody/tr[2]/td[5]'\n",
    "        xDate = '//*[@id=\"ResultBox\"]/table/tbody/tr[2]/td[6]'\n",
    "        name =  wait.until(\n",
    "                     EC.presence_of_element_located((By.XPATH, xName))\n",
    "              ).text\n",
    "        creator =  wait.until(\n",
    "                     EC.presence_of_element_located((By.XPATH, xCreator))\n",
    "              ).text\n",
    "        publisher =  wait.until(\n",
    "                     EC.presence_of_element_located((By.XPATH, xPublisher))\n",
    "              ).text\n",
    "        date =  wait.until(\n",
    "                     EC.presence_of_element_located((By.XPATH, xDate))\n",
    "              ).text\n",
    "        driver.close()\n",
    "        return name, creator, publisher, date\n",
    "    except Exception as e:\n",
    "        print(f\"An error occurred: {e}\")\n",
    "        return 'error', 'error', 'error', 'error'\n",
    "    \n",
    "\n",
    "#\n"
   ]
  },
  {
   "cell_type": "code",
   "execution_count": 99,
   "metadata": {},
   "outputs": [
    {
     "data": {
      "text/plain": [
       "('沙丘: 神帝= God emperor of dune',\n",
       " '法蘭克.赫伯特(Frank Herbert)著; 劉未央譯',\n",
       " '大家',\n",
       " '110/09')"
      ]
     },
     "execution_count": 99,
     "metadata": {},
     "output_type": "execute_result"
    }
   ],
   "source": [
    "crawl_book_isbn('9789865562144')"
   ]
  },
  {
   "cell_type": "code",
   "execution_count": 46,
   "metadata": {},
   "outputs": [],
   "source": [
    "start_checkpoint = 100\n",
    "end_checkpoint = 150"
   ]
  },
  {
   "cell_type": "code",
   "execution_count": 3,
   "metadata": {},
   "outputs": [
    {
     "ename": "NameError",
     "evalue": "name 'end_checkpoint' is not defined",
     "output_type": "error",
     "traceback": [
      "\u001b[0;31m---------------------------------------------------------------------------\u001b[0m",
      "\u001b[0;31mNameError\u001b[0m                                 Traceback (most recent call last)",
      "Cell \u001b[0;32mIn[3], line 6\u001b[0m\n\u001b[1;32m      4\u001b[0m isbnDataframe \u001b[38;5;241m=\u001b[39m pd\u001b[38;5;241m.\u001b[39mDataFrame(columns\u001b[38;5;241m=\u001b[39m[\u001b[38;5;124m\"\u001b[39m\u001b[38;5;124misbn\u001b[39m\u001b[38;5;124m\"\u001b[39m,\u001b[38;5;124m\"\u001b[39m\u001b[38;5;124mname\u001b[39m\u001b[38;5;124m\"\u001b[39m,\u001b[38;5;124m\"\u001b[39m\u001b[38;5;124mauthor\u001b[39m\u001b[38;5;124m\"\u001b[39m,\u001b[38;5;124m\"\u001b[39m\u001b[38;5;124mpublisher\u001b[39m\u001b[38;5;124m\"\u001b[39m, \u001b[38;5;124m\"\u001b[39m\u001b[38;5;124mdate\u001b[39m\u001b[38;5;124m\"\u001b[39m])\n\u001b[1;32m      5\u001b[0m \u001b[38;5;28;01mfor\u001b[39;00m isbn_ \u001b[38;5;129;01min\u001b[39;00m isbns:\n\u001b[0;32m----> 6\u001b[0m     \u001b[38;5;28;01mif\u001b[39;00m count \u001b[38;5;241m==\u001b[39m \u001b[43mend_checkpoint\u001b[49m:\n\u001b[1;32m      7\u001b[0m         \u001b[38;5;28;01mbreak\u001b[39;00m\n\u001b[1;32m      8\u001b[0m     \u001b[38;5;28;01mif\u001b[39;00m count \u001b[38;5;241m>\u001b[39m\u001b[38;5;241m=\u001b[39m start_checkpoint:\n",
      "\u001b[0;31mNameError\u001b[0m: name 'end_checkpoint' is not defined"
     ]
    }
   ],
   "source": [
    "isbnFile = open('isbns.txt', 'r')\n",
    "isbns = isbnFile.readlines()\n",
    "count = 0\n",
    "isbnDataframe = pd.DataFrame(columns=[\"isbn\",\"name\",\"author\",\"publisher\", \"date\"])\n",
    "for isbn_ in isbns:\n",
    "    if count == end_checkpoint:\n",
    "        break\n",
    "    if count >= start_checkpoint:\n",
    "        isbn = isbn_.strip()\n",
    "        name, author, publisher, date = crawl_book_isbn(isbn)\n",
    "        d = [isbn, name, author, publisher, date]\n",
    "        isbnDataframe.loc[len(isbnDataframe)] = d\n",
    "        print(d)\n",
    "    count += 1\n",
    "    \n",
    "isbnDataframe.to_csv(f'./csv/isbn_{start_checkpoint}-{end_checkpoint}.csv')\n",
    "    "
   ]
  },
  {
   "cell_type": "code",
   "execution_count": 38,
   "metadata": {},
   "outputs": [],
   "source": [
    "def crawl_book_cover(isbn):\n",
    "   service = Service()\n",
    "   options = webdriver.ChromeOptions()\n",
    "   # options = webdriver.SafariOptions()\n",
    "   options.page_load_strategy = 'eager'\n",
    "   options.add_argument(\"--enable-javascript\")\n",
    "\n",
    "   ua = UserAgent(platforms=['pc'], browsers=['chrome', 'edge', 'firefox', 'safari'])\n",
    "   user_agent = ua.random\n",
    "   options.add_argument(f'--user-agent={user_agent}')\n",
    "   # options.add_argument('--headless')\n",
    "   # Initialize Chrome WebDriver\n",
    "   driver = webdriver.Chrome(service=service, options=options)\n",
    "   # driver = webdriver.Safari(options=options)\n",
    "   driver.maximize_window()\n",
    "   wait = WebDriverWait(driver, 10)\n",
    "   search_url = f\"https://www.google.com/search?site=&tbm=isch&source=hp&biw=1873&bih=990&q={isbn}\"\n",
    "    \n",
    "   try:\n",
    "      driver.get(search_url)\n",
    "      # driver.implicitly_wait(5)\n",
    "      img_box = wait.until(EC.element_to_be_clickable((By.XPATH, '//*[@id=\"rso\"]/div/div/div[1]/div/div/div[1]/div[2]/h3/a/div/div/div')))\n",
    "      img_box.click()\n",
    "      # XPath of the image display \n",
    "      fir_img = wait.until(EC.visibility_of_element_located((By.XPATH, '//*[@id=\"Sva75c\"]/div[2]/div[2]/div/div[2]/c-wiz/div/div[3]/div[1]/a/img[1]')))\n",
    "\n",
    "      # fir_img = driver.find_element(By.XPATH, '//*[@id=\"Sva75c\"]/div[2]/div[2]/div/div[2]/c-wiz/div/div[3]/div[1]/a/img[1]')\n",
    "      # Retrieve attribute of src from the element\n",
    "      img_src = fir_img.get_attribute('src')\n",
    "      time.sleep(1)\n",
    "      driver.close()\n",
    "      \n",
    "      \n",
    "      return img_src\n",
    "       \n",
    "   except Exception as e:\n",
    "      print(f\"An error occurred: {e}\")\n",
    "      return 'error'\n",
    "    \n",
    "\n",
    "#\n"
   ]
  },
  {
   "cell_type": "code",
   "execution_count": 37,
   "metadata": {},
   "outputs": [
    {
     "data": {
      "text/plain": [
       "'https://s.eslite.com/upload/product/o/2611276536001/ec67093.jpg'"
      ]
     },
     "execution_count": 37,
     "metadata": {},
     "output_type": "execute_result"
    }
   ],
   "source": [
    "crawl_book_cover(9789577336033)"
   ]
  },
  {
   "cell_type": "code",
   "execution_count": 48,
   "metadata": {},
   "outputs": [
    {
     "name": "stdout",
     "output_type": "stream",
     "text": [
      "['9789570349689', 'https://encrypted-tbn0.gstatic.com/images?q=tbn:ANd9GcQscBPfazmL1TsyRPEqHBjJGIT_k4idle2hNA&s']\n",
      "['9789570349856', 'https://encrypted-tbn0.gstatic.com/images?q=tbn:ANd9GcQNuLxOdvE5WzP9IfJOjjQpjDtpFIcZMv8N8Q&s']\n",
      "['9789868112698', 'https://encrypted-tbn0.gstatic.com/images?q=tbn:ANd9GcRG7-4986-988wwc7lj2yUxVkMq0RbXKYC8Mw&s']\n",
      "['9789866562198', 'https://encrypted-tbn0.gstatic.com/images?q=tbn:ANd9GcQAuyjouK_K6vzVtYQ49zCUsi4smN8EU5iRog&s']\n",
      "['9789867600318', 'https://www.locuspublishing.com/webroot/file/books/1000/A010FM019-1000.png']\n",
      "['9789577453495', 'https://im2.book.com.tw/image/getImage?i=https://www.books.com.tw/img/001/099/46/0010994692_bc_01.jpg&v=668bce71k&w=375&h=375']\n",
      "['9789577453495', 'https://im2.book.com.tw/image/getImage?i=https://www.books.com.tw/img/001/099/46/0010994692_bc_01.jpg&v=668bce71k&w=375&h=375']\n",
      "['9789862290873', 'https://s.eslite.com/Upload/Product/200906/o/633802254962602316.JPG']\n",
      "['9789570494044', 'https://encrypted-tbn0.gstatic.com/images?q=tbn:ANd9GcSF8NP90vkbmbsecB_V7gkaHSkkVHiL3-y3BA&s']\n",
      "['9789579184113', 'https://encrypted-tbn0.gstatic.com/images?q=tbn:ANd9GcTcNXQVeBf2qBc3Dsok1IhX5V5bMtz-l4dtUQ&s']\n",
      "['9789572813690', 'https://gcs.rimg.com.tw/g1/8/f5/f5/21824206425589_633_m.JPG']\n",
      "An error occurred: Message: \n",
      "Stacktrace:\n",
      "0   chromedriver                        0x00000001005879d8 cxxbridge1$str$ptr + 1887096\n",
      "1   chromedriver                        0x000000010057fe40 cxxbridge1$str$ptr + 1855456\n",
      "2   chromedriver                        0x0000000100184be0 cxxbridge1$string$len + 89508\n",
      "3   chromedriver                        0x00000001001c8f10 cxxbridge1$string$len + 368852\n",
      "4   chromedriver                        0x00000001002024a4 cxxbridge1$string$len + 603752\n",
      "5   chromedriver                        0x00000001001bda08 cxxbridge1$string$len + 322508\n",
      "6   chromedriver                        0x00000001001be66c cxxbridge1$string$len + 325680\n",
      "7   chromedriver                        0x000000010054e098 cxxbridge1$str$ptr + 1651256\n",
      "8   chromedriver                        0x00000001005529cc cxxbridge1$str$ptr + 1669996\n",
      "9   chromedriver                        0x000000010053322c cxxbridge1$str$ptr + 1541068\n",
      "10  chromedriver                        0x000000010055329c cxxbridge1$str$ptr + 1672252\n",
      "11  chromedriver                        0x0000000100524840 cxxbridge1$str$ptr + 1481184\n",
      "12  chromedriver                        0x0000000100571138 cxxbridge1$str$ptr + 1794776\n",
      "13  chromedriver                        0x00000001005712b4 cxxbridge1$str$ptr + 1795156\n",
      "14  chromedriver                        0x000000010057fadc cxxbridge1$str$ptr + 1854588\n",
      "15  libsystem_pthread.dylib             0x0000000189897034 _pthread_start + 136\n",
      "16  libsystem_pthread.dylib             0x0000000189891e3c thread_start + 8\n",
      "\n",
      "['9789862130209', 'error']\n",
      "['9789862130667', 'https://im2.book.com.tw/image/getImage?i=https://www.books.com.tw/img/001/099/22/0010992287.jpg&v=666d1984k&w=375&h=375']\n",
      "['9789571351483', 'https://encrypted-tbn0.gstatic.com/images?q=tbn:ANd9GcQRFM9yyfmXaGuchjiEK7guW6nZh_SWTS2iEw&s']\n",
      "['9789571345826', 'https://www.iread.com.tw/ProductFile/T0000200/B000054256/B000054256-B.jpg']\n",
      "['9789571343174', 'https://encrypted-tbn0.gstatic.com/images?q=tbn:ANd9GcTvCn1_ybEJN7dVE1qplpOGOs4o6F8pp0KI5g&s']\n",
      "['9789571344584', 'https://encrypted-tbn0.gstatic.com/images?q=tbn:ANd9GcS3sW67zzmPGrRt11D6Itn9Hw-4MYqgLtKDZw&s']\n",
      "['9789867399038', 'https://encrypted-tbn0.gstatic.com/images?q=tbn:ANd9GcTrvzpANEaWdaMWXSVLOM7SCvijLx9MnZ3cMA&s']\n",
      "['9789867399489', 'https://encrypted-tbn0.gstatic.com/images?q=tbn:ANd9GcRAxLJprynU_UHZaJaAzlc5CDE9_F8iyJKHtg&s']\n",
      "['9789573314745', 'https://s.eslite.com/upload/product/o/2611146314005/ec81221.jpg']\n",
      "['9789861243979', 'https://encrypted-tbn0.gstatic.com/images?q=tbn:ANd9GcRNlEdec8zZMVk_U_XKv-9rfNkwOp7CeuIhQw&s']\n",
      "An error occurred: Message: \n",
      "Stacktrace:\n",
      "0   chromedriver                        0x00000001031179d8 cxxbridge1$str$ptr + 1887096\n",
      "1   chromedriver                        0x000000010310fe40 cxxbridge1$str$ptr + 1855456\n",
      "2   chromedriver                        0x0000000102d14be0 cxxbridge1$string$len + 89508\n",
      "3   chromedriver                        0x0000000102d58f10 cxxbridge1$string$len + 368852\n",
      "4   chromedriver                        0x0000000102d924a4 cxxbridge1$string$len + 603752\n",
      "5   chromedriver                        0x0000000102d4da08 cxxbridge1$string$len + 322508\n",
      "6   chromedriver                        0x0000000102d4e66c cxxbridge1$string$len + 325680\n",
      "7   chromedriver                        0x00000001030de098 cxxbridge1$str$ptr + 1651256\n",
      "8   chromedriver                        0x00000001030e29cc cxxbridge1$str$ptr + 1669996\n",
      "9   chromedriver                        0x00000001030c322c cxxbridge1$str$ptr + 1541068\n",
      "10  chromedriver                        0x00000001030e329c cxxbridge1$str$ptr + 1672252\n",
      "11  chromedriver                        0x00000001030b4840 cxxbridge1$str$ptr + 1481184\n",
      "12  chromedriver                        0x0000000103101138 cxxbridge1$str$ptr + 1794776\n",
      "13  chromedriver                        0x00000001031012b4 cxxbridge1$str$ptr + 1795156\n",
      "14  chromedriver                        0x000000010310fadc cxxbridge1$str$ptr + 1854588\n",
      "15  libsystem_pthread.dylib             0x0000000189897034 _pthread_start + 136\n",
      "16  libsystem_pthread.dylib             0x0000000189891e3c thread_start + 8\n",
      "\n",
      "['9789573323273', 'error']\n",
      "['9789578701083', 'https://im1.book.com.tw/image/getImage?i=https://www.books.com.tw/img/E05/016/60/E050166020.jpg&v=6487dc20k&w=375&h=375']\n",
      "['9789578701557', 'https://www.spbook.com.tw/img.php?s=http://images.spbook.com.tw/upload/spbookcomtw/www_spbook_ftp_albums/159/80b05432f4f1ed668fb5b0ffeb0ec8f9.jpg']\n",
      "['9789862098745', 'https://encrypted-tbn0.gstatic.com/images?q=tbn:ANd9GcQ38fSl_AiE-bjzedHmVSresPo2Wd0O6III5A&s']\n",
      "['9789866525339', 'https://cdnec.sanmin.com.tw/product_images/986/986652533.jpg']\n",
      "['9789573261162', 'https://down-tw.img.susercontent.com/file/a718154ab362b79234e0d55f1bf0bad3']\n",
      "['9789573255307', 'https://encrypted-tbn0.gstatic.com/images?q=tbn:ANd9GcR8vpOlBW-kJQONOYnrJ8rvcMHzKnM-Jz0q-g&s']\n",
      "['4717702053796', 'https://www.spbook.com.tw/img.php?s=http://images.spbook.com.tw/upload/spbookcomtw/www_spbook_ftp_albums/159/80b05432f4f1ed668fb5b0ffeb0ec8f9.jpg']\n",
      "['9789575457327', 'https://encrypted-tbn0.gstatic.com/images?q=tbn:ANd9GcT3faSFj1dsyao8dNpiDdX9FsCxqWzCDyxQzQ&s']\n",
      "['9789575457327', 'https://s.eslite.com/upload/product/o/2611317674006/ec1683758.jpg']\n",
      "An error occurred: Message: \n",
      "Stacktrace:\n",
      "0   chromedriver                        0x000000010084f9d8 cxxbridge1$str$ptr + 1887096\n",
      "1   chromedriver                        0x0000000100847e40 cxxbridge1$str$ptr + 1855456\n",
      "2   chromedriver                        0x000000010044cbe0 cxxbridge1$string$len + 89508\n",
      "3   chromedriver                        0x0000000100490f10 cxxbridge1$string$len + 368852\n",
      "4   chromedriver                        0x00000001004ca4a4 cxxbridge1$string$len + 603752\n",
      "5   chromedriver                        0x0000000100485a08 cxxbridge1$string$len + 322508\n",
      "6   chromedriver                        0x000000010048666c cxxbridge1$string$len + 325680\n",
      "7   chromedriver                        0x0000000100816098 cxxbridge1$str$ptr + 1651256\n",
      "8   chromedriver                        0x000000010081a9cc cxxbridge1$str$ptr + 1669996\n",
      "9   chromedriver                        0x00000001007fb22c cxxbridge1$str$ptr + 1541068\n",
      "10  chromedriver                        0x000000010081b29c cxxbridge1$str$ptr + 1672252\n",
      "11  chromedriver                        0x00000001007ec840 cxxbridge1$str$ptr + 1481184\n",
      "12  chromedriver                        0x0000000100839138 cxxbridge1$str$ptr + 1794776\n",
      "13  chromedriver                        0x00000001008392b4 cxxbridge1$str$ptr + 1795156\n",
      "14  chromedriver                        0x0000000100847adc cxxbridge1$str$ptr + 1854588\n",
      "15  libsystem_pthread.dylib             0x0000000189897034 _pthread_start + 136\n",
      "16  libsystem_pthread.dylib             0x0000000189891e3c thread_start + 8\n",
      "\n",
      "['9789574503414', 'error']\n",
      "['9789574504879', 'https://img.findprice.com.tw/book/9789574504879.jpg']\n",
      "['9789573249443', 'https://encrypted-tbn0.gstatic.com/images?q=tbn:ANd9GcQ_x6NJ347hmpmDL_jCi2nRXtEtfy2ksUKR7A&s']\n",
      "['9789866665578', 'https://s.eslite.com/Upload/Product/201006/o/634133216294711250.jpg']\n",
      "['9789575453435', 'https://encrypted-tbn0.gstatic.com/images?q=tbn:ANd9GcT_OmS2bCgNAj1v_JcnkyfLsX-9OzF3UsBFVw&s']\n",
      "['9789862876527', 'https://cdnec.sanmin.com.tw/product_images/986/986287652.jpg']\n",
      "['9789861740485', 'https://shoplineimg.com/655b0f3c9b81d900188b35f1/664013ccb8f8480022903191/800x.jpg?']\n",
      "['9789867299536', 'https://encrypted-tbn0.gstatic.com/images?q=tbn:ANd9GcSaHamhMbsOTM_Gjr9SCaGsO0b_pjJUJu4P0Q&s']\n",
      "['9789867189189', 'https://encrypted-tbn0.gstatic.com/images?q=tbn:ANd9GcSSd_I6wgCPmMNSGgb1rfFdCE0pPPiRPKJNrg&s']\n",
      "['9789867189806', 'https://encrypted-tbn0.gstatic.com/images?q=tbn:ANd9GcRIcdZpPQOHr5Nye-6lM7atXOyh6moHuqtPGg&s']\n",
      "['9789861744469', 'https://encrypted-tbn0.gstatic.com/images?q=tbn:ANd9GcRXR8_XgnVOfkPfbyOJBK5PZPe8cN5g2Uaa8Q&s']\n",
      "['9789861742649', 'https://s.eslite.com/upload/product/o/2680230105003/20201027133005129312.jpg']\n",
      "['9789867299208', 'https://im1.book.com.tw/image/getImage?i=https://www.books.com.tw/img/001/097/98/0010979814.jpg&v=65a12301k&w=375&h=375']\n",
      "['9789867427885', 'https://encrypted-tbn0.gstatic.com/images?q=tbn:ANd9GcTqOizh0i8M7jeijogVK2KxI1I8opXVN_5jLw&s']\n",
      "['9789866562709', 'https://encrypted-tbn0.gstatic.com/images?q=tbn:ANd9GcSWgv9ExiDR7wtfyj1FczXlgTWJKZeywtrjIA&s']\n",
      "['9789862376027', 'https://encrypted-tbn0.gstatic.com/images?q=tbn:ANd9GcQXl3B4h0bBqw3GhA-NQe1gNxxy0JvSgqQC2Q&s']\n",
      "['9789867475909', 'https://encrypted-tbn0.gstatic.com/images?q=tbn:ANd9GcSOptHma8hM_ak6j6M8tNBOTWDMqcvQiwPUUA&s']\n",
      "An error occurred: Message: \n",
      "Stacktrace:\n",
      "0   chromedriver                        0x00000001029ff9d8 cxxbridge1$str$ptr + 1887096\n",
      "1   chromedriver                        0x00000001029f7e40 cxxbridge1$str$ptr + 1855456\n",
      "2   chromedriver                        0x00000001025fcbe0 cxxbridge1$string$len + 89508\n",
      "3   chromedriver                        0x0000000102640f10 cxxbridge1$string$len + 368852\n",
      "4   chromedriver                        0x000000010267a4a4 cxxbridge1$string$len + 603752\n",
      "5   chromedriver                        0x0000000102635a08 cxxbridge1$string$len + 322508\n",
      "6   chromedriver                        0x000000010263666c cxxbridge1$string$len + 325680\n",
      "7   chromedriver                        0x00000001029c6098 cxxbridge1$str$ptr + 1651256\n",
      "8   chromedriver                        0x00000001029ca9cc cxxbridge1$str$ptr + 1669996\n",
      "9   chromedriver                        0x00000001029ab22c cxxbridge1$str$ptr + 1541068\n",
      "10  chromedriver                        0x00000001029cb29c cxxbridge1$str$ptr + 1672252\n",
      "11  chromedriver                        0x000000010299c840 cxxbridge1$str$ptr + 1481184\n",
      "12  chromedriver                        0x00000001029e9138 cxxbridge1$str$ptr + 1794776\n",
      "13  chromedriver                        0x00000001029e92b4 cxxbridge1$str$ptr + 1795156\n",
      "14  chromedriver                        0x00000001029f7adc cxxbridge1$str$ptr + 1854588\n",
      "15  libsystem_pthread.dylib             0x0000000189897034 _pthread_start + 136\n",
      "16  libsystem_pthread.dylib             0x0000000189891e3c thread_start + 8\n",
      "\n",
      "['9789862376027', 'error']\n",
      "['9789571032139', 'https://im2.book.com.tw/image/getImage?i=https://www.books.com.tw/img/001/032/95/0010329579.jpg&v=48f409fak&w=375&h=375']\n"
     ]
    }
   ],
   "source": [
    "isbnFile = open('isbns.txt', 'r')\n",
    "isbns = isbnFile.readlines()\n",
    "count = 0\n",
    "isbnDataframe = pd.DataFrame(columns=[\"isbn\",\"cover\"])\n",
    "for isbn_ in isbns:\n",
    "    if count == end_checkpoint:\n",
    "        break\n",
    "    if count >= start_checkpoint:\n",
    "        isbn = isbn_.strip()\n",
    "        cover = crawl_book_cover(isbn)\n",
    "        d = [isbn, cover]\n",
    "        isbnDataframe.loc[len(isbnDataframe)] = d\n",
    "        print(d)\n",
    "    count += 1\n",
    "    \n",
    "isbnDataframe.to_csv(f'./csv/cover_{start_checkpoint}-{end_checkpoint}.csv')"
   ]
  }
 ],
 "metadata": {
  "kernelspec": {
   "display_name": ".venv",
   "language": "python",
   "name": "python3"
  },
  "language_info": {
   "codemirror_mode": {
    "name": "ipython",
    "version": 3
   },
   "file_extension": ".py",
   "mimetype": "text/x-python",
   "name": "python",
   "nbconvert_exporter": "python",
   "pygments_lexer": "ipython3",
   "version": "3.12.5"
  }
 },
 "nbformat": 4,
 "nbformat_minor": 2
}
