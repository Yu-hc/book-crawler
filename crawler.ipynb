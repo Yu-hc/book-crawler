{
 "cells": [
  {
   "cell_type": "markdown",
   "metadata": {},
   "source": [
    "## Web crawler\n"
   ]
  },
  {
   "cell_type": "markdown",
   "metadata": {},
   "source": [
    "import modules\n"
   ]
  },
  {
   "cell_type": "code",
   "execution_count": 2,
   "metadata": {},
   "outputs": [],
   "source": [
    "from selenium import webdriver\n",
    "from selenium.webdriver.common.keys import Keys\n",
    "from selenium.webdriver.chrome.service import Service\n",
    "from selenium.webdriver.common.by import By\n",
    "from selenium.webdriver.support.ui import Select\n",
    "from selenium.webdriver.support import expected_conditions as EC\n",
    "from selenium.webdriver.support.wait import WebDriverWait\n",
    "\n",
    "\n",
    "import time\n",
    "import numpy as np\n",
    "import pandas as pd\n",
    "import pickle"
   ]
  },
  {
   "cell_type": "markdown",
   "metadata": {},
   "source": [
    "initialize args\n"
   ]
  },
  {
   "cell_type": "code",
   "execution_count": 3,
   "metadata": {},
   "outputs": [],
   "source": [
    "service = Service()\n",
    "options = webdriver.ChromeOptions()\n",
    "prefs = {'profile.default_content_setting_values': {'cookies': 2, 'images': 2, 'javascript': 2, \n",
    "                            'plugins': 2, 'popups': 2, 'geolocation': 2, \n",
    "                            'notifications': 2, 'auto_select_certificate': 2, 'fullscreen': 2, \n",
    "                            'mouselock': 2, 'mixed_script': 2, 'media_stream': 2, \n",
    "                            'media_stream_mic': 2, 'media_stream_camera': 2, 'protocol_handlers': 2, \n",
    "                            'ppapi_broker': 2, 'automatic_downloads': 2, 'midi_sysex': 2, \n",
    "                            'push_messaging': 2, 'ssl_cert_decisions': 2, 'metro_switch_to_desktop': 2, \n",
    "                            'protected_media_identifier': 2, 'app_banner': 2, 'site_engagement': 2, \n",
    "                            'durable_storage': 2}}\n",
    "options.add_experimental_option('prefs', prefs)\n",
    "options.page_load_strategy = 'eager'\n",
    "\n",
    "options.add_argument('--headless')  # 啟動Headless 無頭\n",
    "\n"
   ]
  },
  {
   "cell_type": "markdown",
   "metadata": {},
   "source": [
    "extract publisher, creator, year from raw data\n"
   ]
  },
  {
   "cell_type": "code",
   "execution_count": 4,
   "metadata": {},
   "outputs": [],
   "source": [
    "def process_rawData(creatorRaw, publisherRaw):\n",
    "       creator = creatorRaw.removesuffix(', 著')\n",
    "       split = publisherRaw.split(',')\n",
    "       year = split[-1]\n",
    "       year = year.split('[')[0]\n",
    "       publisher = split[0].split(':')[-1].replace('\\n', ' ')\n",
    "       publisher = publisher.removeprefix(' ')\n",
    "       \n",
    "       return creator, publisher, year\n",
    "       "
   ]
  },
  {
   "cell_type": "markdown",
   "metadata": {},
   "source": [
    "crawler function\n"
   ]
  },
  {
   "cell_type": "code",
   "execution_count": 6,
   "metadata": {},
   "outputs": [],
   "source": [
    "def crawl_book(bookTitle):\n",
    "       driver = webdriver.Chrome(service=service, options=options)\n",
    "       wait = WebDriverWait(driver, timeout=10, poll_frequency=1)\n",
    "       baseUrl = 'https://metadata.ncl.edu.tw/blstkmc/blstkm#tudorkmtop'\n",
    "       driver.get(baseUrl)\n",
    "       \n",
    "       # set search configs\n",
    "       x1 = '/html/body/form/table/tbody/tr[2]/td/table/tbody/tr/td[2]/table[1]/tbody/tr[2]/td/table/tbody/tr[2]/td[1]/select'\n",
    "       select = Select(wait.until(\n",
    "                     EC.presence_of_element_located((By.XPATH, x1))\n",
    "                     ))\n",
    "       select.select_by_value('n_TI')\n",
    "       x2 = '/html/body/form/table/tbody/tr[2]/td/table/tbody/tr/td[2]/table[1]/tbody/tr[2]/td/table/tbody/tr[2]/td[2]/select'\n",
    "       select = Select(driver.find_element(By.XPATH, x2))\n",
    "       select.select_by_value('C')\n",
    "       # enter book name\n",
    "       x3 = '//*[@id=\"hotname\"]'\n",
    "       query = driver.find_element(By.XPATH, x3)\n",
    "       query.clear()\n",
    "       query.send_keys(bookTitle)\n",
    "       # press search\n",
    "       x4 = '/html/body/form/table/tbody/tr[2]/td/table/tbody/tr/td[2]/table[1]/tbody/tr[2]/td/table/tbody/tr[5]/td/input[1]'\n",
    "       searchBtn = wait.until(\n",
    "                     EC.presence_of_element_located((By.XPATH, x4))\n",
    "                     )\n",
    "       searchBtn.click()\n",
    "       \n",
    "       \n",
    "       try:\n",
    "              # sort by year , ascending\n",
    "              x6 = '/html/body/form/table/tbody/tr[2]/td/table/tbody/tr/td[2]/table/tbody/tr[4]/td[1]/table/tbody/tr/td[3]/table/tbody/tr/td[2]/select'\n",
    "              select = Select( wait.until(\n",
    "                     EC.presence_of_element_located((By.XPATH, x6))\n",
    "              ))\n",
    "              select.select_by_value('YR')\n",
    "              x7 = '/html/body/form/table/tbody/tr[2]/td/table/tbody/tr/td[2]/table/tbody/tr[4]/td[1]/table/tbody/tr/td[3]/table/tbody/tr/td[3]/select'\n",
    "              select = Select( wait.until(\n",
    "                     EC.presence_of_element_located((By.XPATH, x7))\n",
    "              ))\n",
    "              select.select_by_value('0')\n",
    "              x8 = '/html/body/form/table/tbody/tr[2]/td/table/tbody/tr/td[2]/table/tbody/tr[4]/td[1]/table/tbody/tr/td[2]/input'\n",
    "              sortBtn =  wait.until(\n",
    "                     EC.presence_of_element_located((By.XPATH, x8))\n",
    "              )\n",
    "              sortBtn.click()\n",
    "              \n",
    "              xCreator = '/html/body/form/table/tbody/tr[2]/td/table/tbody/tr/td[2]/table/tbody/tr[5]/td/table/tbody/tr[2]/td[3]'\n",
    "              xPublisher  = '/html/body/form/table/tbody/tr[2]/td/table/tbody/tr/td[2]/table/tbody/tr[5]/td/table/tbody/tr[2]/td[4]'\n",
    "              creatorRaw =   wait.until(\n",
    "                     EC.presence_of_element_located((By.XPATH, xCreator))\n",
    "              ).text\n",
    "              publisherRaw =  wait.until(\n",
    "                     EC.presence_of_element_located((By.XPATH, xPublisher))\n",
    "              ).text\n",
    "              creator, publisher, year = process_rawData(creatorRaw, publisherRaw)\n",
    "       except:\n",
    "              creator, publisher, year = 'error', 'error', 'error'\n",
    "              print('error', bookTitle)  \n",
    "       driver.close()  \n",
    "       \n",
    "       return pd.Series( [bookTitle, creator, publisher, year], index=['title','creator','publisher','year'])\n"
   ]
  },
  {
   "cell_type": "markdown",
   "metadata": {},
   "source": [
    "test one book "
   ]
  },
  {
   "cell_type": "code",
   "execution_count": 8,
   "metadata": {},
   "outputs": [
    {
     "data": {
      "text/plain": [
       "title           三體\n",
       "creator        劉慈欣\n",
       "publisher      貓頭鷹\n",
       "year          2023\n",
       "dtype: object"
      ]
     },
     "execution_count": 8,
     "metadata": {},
     "output_type": "execute_result"
    }
   ],
   "source": [
    "crawl_book('三體')"
   ]
  },
  {
   "cell_type": "code",
   "execution_count": 9,
   "metadata": {},
   "outputs": [
    {
     "name": "stdout",
     "output_type": "stream",
     "text": [
      "0               龍鱗焰火\n",
      "1               龍族秘錄\n",
      "2              黑暗的左手\n",
      "3               黃海童話\n",
      "4        非理性時代 牛頓加農砲\n",
      "           ...      \n",
      "496        [簡]納米魔幻兵團\n",
      "497    [簡]現代中國科幻文學主潮\n",
      "498     黃禍 3/3黃禍反撲世界\n",
      "499     黃禍 1/3大陸內戰爆發\n",
      "500    黃禍  2/3台灣生死存亡\n",
      "Name: 書名, Length: 501, dtype: object\n"
     ]
    }
   ],
   "source": [
    "df = pd.read_csv('書籍.csv')\n",
    "df = df.dropna().reset_index()\n",
    "print(df['書名'])"
   ]
  },
  {
   "cell_type": "code",
   "execution_count": 15,
   "metadata": {},
   "outputs": [],
   "source": [
    "errorIndex = []\n",
    "start = 100\n",
    "checkpoint = 50\n",
    "new_df = pd.DataFrame()"
   ]
  },
  {
   "cell_type": "code",
   "execution_count": 31,
   "metadata": {},
   "outputs": [
    {
     "name": "stdout",
     "output_type": "stream",
     "text": [
      "error Star Trek the Next Generation: Perchance to Dream\n",
      "\n",
      "done400/450.error Star Trek the Next Generation: Metamorphosis\n",
      ".error Star Trek the Next Generation: Doomsday World\n",
      ".error Star Trek the Next Generation: Contamination\n",
      ".error Star Trek the Next Generation: Chains of Command\n",
      ".error Star Trek the Next Generation Immortal Coil\n",
      ".error Star Trek the Next Generation Gateway\n",
      ".error Star Trek S.C.E. Book Two\n",
      ".error Star Trek S.C.E. Book One\n",
      ".error STAR TREK Roleplaying Game Player`s Guide\n",
      ".error Star Trek Roleplaying Game Narrator's Guide\n",
      "\n",
      "done410/450.error Star Trek ds9\n",
      ".error Star Trek Deep Space 9: Avatar Book Two\n",
      ".error Star Trek Deep Space 9: Avatar Book One\n",
      ".error Star Trek Deep Space 9 Section 31\n",
      ".error Star Trek Cookbook\n",
      ".....\n",
      "done420/450.error Shadow of the Hegemon\n",
      "...error Science Fiction SF: The Illustrated Encyclopedia\n",
      ".error Science Fiction of the 20th Century\n",
      "."
     ]
    },
    {
     "ename": "ElementClickInterceptedException",
     "evalue": "Message: element click intercepted: Element <input type=\"image\" name=\"_IMG_檢索\" alt=\"__檢索\" src=\"/blstkm/img/search_btn.png\" class=\"button\" border=\"0\" title=\"檢索\"> is not clickable at point (430, 306). Other element would receive the click: <div id=\"ajax_listOfOptions\" style=\"top: 199px; left: 415px;\"></div>\n  (Session info: chrome-headless-shell=127.0.6533.101)\nStacktrace:\n0   chromedriver                        0x00000001048d9024 cxxbridge1$str$ptr + 1887276\n1   chromedriver                        0x00000001048d1700 cxxbridge1$str$ptr + 1856264\n2   chromedriver                        0x00000001044e082c cxxbridge1$string$len + 88524\n3   chromedriver                        0x000000010452a020 cxxbridge1$string$len + 389568\n4   chromedriver                        0x000000010452864c cxxbridge1$string$len + 382956\n5   chromedriver                        0x0000000104526878 cxxbridge1$string$len + 375320\n6   chromedriver                        0x0000000104525dc4 cxxbridge1$string$len + 372580\n7   chromedriver                        0x000000010451b3a8 cxxbridge1$string$len + 329032\n8   chromedriver                        0x000000010451ae38 cxxbridge1$string$len + 327640\n9   chromedriver                        0x000000010455c48c cxxbridge1$string$len + 595500\n10  chromedriver                        0x0000000104519474 cxxbridge1$string$len + 321044\n11  chromedriver                        0x000000010451a0e4 cxxbridge1$string$len + 324228\n12  chromedriver                        0x00000001048a0a08 cxxbridge1$str$ptr + 1656336\n13  chromedriver                        0x00000001048a5464 cxxbridge1$str$ptr + 1675372\n14  chromedriver                        0x00000001048868ec cxxbridge1$str$ptr + 1549556\n15  chromedriver                        0x00000001048a5c14 cxxbridge1$str$ptr + 1677340\n16  chromedriver                        0x00000001048785fc cxxbridge1$str$ptr + 1491460\n17  chromedriver                        0x00000001048c2a5c cxxbridge1$str$ptr + 1795684\n18  chromedriver                        0x00000001048c2bd8 cxxbridge1$str$ptr + 1796064\n19  chromedriver                        0x00000001048d1334 cxxbridge1$str$ptr + 1855292\n20  libsystem_pthread.dylib             0x0000000189897034 _pthread_start + 136\n21  libsystem_pthread.dylib             0x0000000189891e3c thread_start + 8\n",
     "output_type": "error",
     "traceback": [
      "\u001b[0;31m---------------------------------------------------------------------------\u001b[0m",
      "\u001b[0;31mElementClickInterceptedException\u001b[0m          Traceback (most recent call last)",
      "Cell \u001b[0;32mIn[31], line 2\u001b[0m\n\u001b[1;32m      1\u001b[0m \u001b[38;5;28;01mfor\u001b[39;00m i \u001b[38;5;129;01min\u001b[39;00m \u001b[38;5;28mrange\u001b[39m(start, start\u001b[38;5;241m+\u001b[39mcheckpoint):\n\u001b[0;32m----> 2\u001b[0m       series \u001b[38;5;241m=\u001b[39m \u001b[43mcrawl_book\u001b[49m\u001b[43m(\u001b[49m\u001b[43mdf\u001b[49m\u001b[43m[\u001b[49m\u001b[38;5;124;43m'\u001b[39;49m\u001b[38;5;124;43m書名\u001b[39;49m\u001b[38;5;124;43m'\u001b[39;49m\u001b[43m]\u001b[49m\u001b[43m[\u001b[49m\u001b[43mi\u001b[49m\u001b[43m]\u001b[49m\u001b[43m)\u001b[49m\n\u001b[1;32m      3\u001b[0m       \u001b[38;5;28;01mif\u001b[39;00m(series[\u001b[38;5;124m'\u001b[39m\u001b[38;5;124mcreator\u001b[39m\u001b[38;5;124m'\u001b[39m]\u001b[38;5;241m==\u001b[39m \u001b[38;5;124m'\u001b[39m\u001b[38;5;124merror\u001b[39m\u001b[38;5;124m'\u001b[39m):\n\u001b[1;32m      4\u001b[0m             errorIndex\u001b[38;5;241m.\u001b[39mappend(i) \n",
      "Cell \u001b[0;32mIn[6], line 26\u001b[0m, in \u001b[0;36mcrawl_book\u001b[0;34m(bookTitle)\u001b[0m\n\u001b[1;32m     22\u001b[0m x4 \u001b[38;5;241m=\u001b[39m \u001b[38;5;124m'\u001b[39m\u001b[38;5;124m/html/body/form/table/tbody/tr[2]/td/table/tbody/tr/td[2]/table[1]/tbody/tr[2]/td/table/tbody/tr[5]/td/input[1]\u001b[39m\u001b[38;5;124m'\u001b[39m\n\u001b[1;32m     23\u001b[0m searchBtn \u001b[38;5;241m=\u001b[39m wait\u001b[38;5;241m.\u001b[39muntil(\n\u001b[1;32m     24\u001b[0m               EC\u001b[38;5;241m.\u001b[39mpresence_of_element_located((By\u001b[38;5;241m.\u001b[39mXPATH, x4))\n\u001b[1;32m     25\u001b[0m               )\n\u001b[0;32m---> 26\u001b[0m \u001b[43msearchBtn\u001b[49m\u001b[38;5;241;43m.\u001b[39;49m\u001b[43mclick\u001b[49m\u001b[43m(\u001b[49m\u001b[43m)\u001b[49m\n\u001b[1;32m     29\u001b[0m \u001b[38;5;28;01mtry\u001b[39;00m:\n\u001b[1;32m     30\u001b[0m        \u001b[38;5;66;03m# sort by year , ascending\u001b[39;00m\n\u001b[1;32m     31\u001b[0m        x6 \u001b[38;5;241m=\u001b[39m \u001b[38;5;124m'\u001b[39m\u001b[38;5;124m/html/body/form/table/tbody/tr[2]/td/table/tbody/tr/td[2]/table/tbody/tr[4]/td[1]/table/tbody/tr/td[3]/table/tbody/tr/td[2]/select\u001b[39m\u001b[38;5;124m'\u001b[39m\n",
      "File \u001b[0;32m~/files/com/book-crawler/.venv/lib/python3.12/site-packages/selenium/webdriver/remote/webelement.py:94\u001b[0m, in \u001b[0;36mWebElement.click\u001b[0;34m(self)\u001b[0m\n\u001b[1;32m     92\u001b[0m \u001b[38;5;28;01mdef\u001b[39;00m \u001b[38;5;21mclick\u001b[39m(\u001b[38;5;28mself\u001b[39m) \u001b[38;5;241m-\u001b[39m\u001b[38;5;241m>\u001b[39m \u001b[38;5;28;01mNone\u001b[39;00m:\n\u001b[1;32m     93\u001b[0m \u001b[38;5;250m    \u001b[39m\u001b[38;5;124;03m\"\"\"Clicks the element.\"\"\"\u001b[39;00m\n\u001b[0;32m---> 94\u001b[0m     \u001b[38;5;28;43mself\u001b[39;49m\u001b[38;5;241;43m.\u001b[39;49m\u001b[43m_execute\u001b[49m\u001b[43m(\u001b[49m\u001b[43mCommand\u001b[49m\u001b[38;5;241;43m.\u001b[39;49m\u001b[43mCLICK_ELEMENT\u001b[49m\u001b[43m)\u001b[49m\n",
      "File \u001b[0;32m~/files/com/book-crawler/.venv/lib/python3.12/site-packages/selenium/webdriver/remote/webelement.py:395\u001b[0m, in \u001b[0;36mWebElement._execute\u001b[0;34m(self, command, params)\u001b[0m\n\u001b[1;32m    393\u001b[0m     params \u001b[38;5;241m=\u001b[39m {}\n\u001b[1;32m    394\u001b[0m params[\u001b[38;5;124m\"\u001b[39m\u001b[38;5;124mid\u001b[39m\u001b[38;5;124m\"\u001b[39m] \u001b[38;5;241m=\u001b[39m \u001b[38;5;28mself\u001b[39m\u001b[38;5;241m.\u001b[39m_id\n\u001b[0;32m--> 395\u001b[0m \u001b[38;5;28;01mreturn\u001b[39;00m \u001b[38;5;28;43mself\u001b[39;49m\u001b[38;5;241;43m.\u001b[39;49m\u001b[43m_parent\u001b[49m\u001b[38;5;241;43m.\u001b[39;49m\u001b[43mexecute\u001b[49m\u001b[43m(\u001b[49m\u001b[43mcommand\u001b[49m\u001b[43m,\u001b[49m\u001b[43m \u001b[49m\u001b[43mparams\u001b[49m\u001b[43m)\u001b[49m\n",
      "File \u001b[0;32m~/files/com/book-crawler/.venv/lib/python3.12/site-packages/selenium/webdriver/remote/webdriver.py:354\u001b[0m, in \u001b[0;36mWebDriver.execute\u001b[0;34m(self, driver_command, params)\u001b[0m\n\u001b[1;32m    352\u001b[0m response \u001b[38;5;241m=\u001b[39m \u001b[38;5;28mself\u001b[39m\u001b[38;5;241m.\u001b[39mcommand_executor\u001b[38;5;241m.\u001b[39mexecute(driver_command, params)\n\u001b[1;32m    353\u001b[0m \u001b[38;5;28;01mif\u001b[39;00m response:\n\u001b[0;32m--> 354\u001b[0m     \u001b[38;5;28;43mself\u001b[39;49m\u001b[38;5;241;43m.\u001b[39;49m\u001b[43merror_handler\u001b[49m\u001b[38;5;241;43m.\u001b[39;49m\u001b[43mcheck_response\u001b[49m\u001b[43m(\u001b[49m\u001b[43mresponse\u001b[49m\u001b[43m)\u001b[49m\n\u001b[1;32m    355\u001b[0m     response[\u001b[38;5;124m\"\u001b[39m\u001b[38;5;124mvalue\u001b[39m\u001b[38;5;124m\"\u001b[39m] \u001b[38;5;241m=\u001b[39m \u001b[38;5;28mself\u001b[39m\u001b[38;5;241m.\u001b[39m_unwrap_value(response\u001b[38;5;241m.\u001b[39mget(\u001b[38;5;124m\"\u001b[39m\u001b[38;5;124mvalue\u001b[39m\u001b[38;5;124m\"\u001b[39m, \u001b[38;5;28;01mNone\u001b[39;00m))\n\u001b[1;32m    356\u001b[0m     \u001b[38;5;28;01mreturn\u001b[39;00m response\n",
      "File \u001b[0;32m~/files/com/book-crawler/.venv/lib/python3.12/site-packages/selenium/webdriver/remote/errorhandler.py:229\u001b[0m, in \u001b[0;36mErrorHandler.check_response\u001b[0;34m(self, response)\u001b[0m\n\u001b[1;32m    227\u001b[0m         alert_text \u001b[38;5;241m=\u001b[39m value[\u001b[38;5;124m\"\u001b[39m\u001b[38;5;124malert\u001b[39m\u001b[38;5;124m\"\u001b[39m]\u001b[38;5;241m.\u001b[39mget(\u001b[38;5;124m\"\u001b[39m\u001b[38;5;124mtext\u001b[39m\u001b[38;5;124m\"\u001b[39m)\n\u001b[1;32m    228\u001b[0m     \u001b[38;5;28;01mraise\u001b[39;00m exception_class(message, screen, stacktrace, alert_text)  \u001b[38;5;66;03m# type: ignore[call-arg]  # mypy is not smart enough here\u001b[39;00m\n\u001b[0;32m--> 229\u001b[0m \u001b[38;5;28;01mraise\u001b[39;00m exception_class(message, screen, stacktrace)\n",
      "\u001b[0;31mElementClickInterceptedException\u001b[0m: Message: element click intercepted: Element <input type=\"image\" name=\"_IMG_檢索\" alt=\"__檢索\" src=\"/blstkm/img/search_btn.png\" class=\"button\" border=\"0\" title=\"檢索\"> is not clickable at point (430, 306). Other element would receive the click: <div id=\"ajax_listOfOptions\" style=\"top: 199px; left: 415px;\"></div>\n  (Session info: chrome-headless-shell=127.0.6533.101)\nStacktrace:\n0   chromedriver                        0x00000001048d9024 cxxbridge1$str$ptr + 1887276\n1   chromedriver                        0x00000001048d1700 cxxbridge1$str$ptr + 1856264\n2   chromedriver                        0x00000001044e082c cxxbridge1$string$len + 88524\n3   chromedriver                        0x000000010452a020 cxxbridge1$string$len + 389568\n4   chromedriver                        0x000000010452864c cxxbridge1$string$len + 382956\n5   chromedriver                        0x0000000104526878 cxxbridge1$string$len + 375320\n6   chromedriver                        0x0000000104525dc4 cxxbridge1$string$len + 372580\n7   chromedriver                        0x000000010451b3a8 cxxbridge1$string$len + 329032\n8   chromedriver                        0x000000010451ae38 cxxbridge1$string$len + 327640\n9   chromedriver                        0x000000010455c48c cxxbridge1$string$len + 595500\n10  chromedriver                        0x0000000104519474 cxxbridge1$string$len + 321044\n11  chromedriver                        0x000000010451a0e4 cxxbridge1$string$len + 324228\n12  chromedriver                        0x00000001048a0a08 cxxbridge1$str$ptr + 1656336\n13  chromedriver                        0x00000001048a5464 cxxbridge1$str$ptr + 1675372\n14  chromedriver                        0x00000001048868ec cxxbridge1$str$ptr + 1549556\n15  chromedriver                        0x00000001048a5c14 cxxbridge1$str$ptr + 1677340\n16  chromedriver                        0x00000001048785fc cxxbridge1$str$ptr + 1491460\n17  chromedriver                        0x00000001048c2a5c cxxbridge1$str$ptr + 1795684\n18  chromedriver                        0x00000001048c2bd8 cxxbridge1$str$ptr + 1796064\n19  chromedriver                        0x00000001048d1334 cxxbridge1$str$ptr + 1855292\n20  libsystem_pthread.dylib             0x0000000189897034 _pthread_start + 136\n21  libsystem_pthread.dylib             0x0000000189891e3c thread_start + 8\n"
     ]
    }
   ],
   "source": [
    "for i in range(start, start+checkpoint):\n",
    "      series = crawl_book(df['書名'][i])\n",
    "      if(series['creator']== 'error'):\n",
    "            errorIndex.append(i) \n",
    "      new_df = pd.concat([new_df, series],axis=1)\n",
    "      if(i%10 == 0):\n",
    "            if(i!=0): \n",
    "                  print()\n",
    "            print(f'done{i}/{start+checkpoint}', end = '')      \n",
    "      print('.', end = '')\n",
    "\n",
    "new_df.to_csv(f'./csv/{start}-{start+checkpoint}.csv')\n",
    "start+=checkpoint\n"
   ]
  },
  {
   "cell_type": "code",
   "execution_count": 30,
   "metadata": {},
   "outputs": [],
   "source": [
    "errorIndex=[]\n",
    "new_df=pd.DataFrame()"
   ]
  },
  {
   "cell_type": "markdown",
   "metadata": {},
   "source": [
    "save var"
   ]
  },
  {
   "cell_type": "code",
   "execution_count": 32,
   "metadata": {},
   "outputs": [],
   "source": [
    "with open(f'./var/var{start-checkpoint}-{start}.pkl', 'wb') as f:  # Python 3: open(..., 'wb')\n",
    "    pickle.dump([start, checkpoint, errorIndex, new_df], f)"
   ]
  },
  {
   "cell_type": "markdown",
   "metadata": {},
   "source": [
    "load var"
   ]
  },
  {
   "cell_type": "code",
   "execution_count": 16,
   "metadata": {},
   "outputs": [],
   "source": [
    "with open(f'./var/var{start-checkpoint}-{start}.pkl', 'rb') as f:  # Python 3: open(..., 'rb')\n",
    "    start,checkpoint,errorIndex,new_df_ = pickle.load(f)"
   ]
  }
 ],
 "metadata": {
  "kernelspec": {
   "display_name": ".venv",
   "language": "python",
   "name": "python3"
  },
  "language_info": {
   "codemirror_mode": {
    "name": "ipython",
    "version": 3
   },
   "file_extension": ".py",
   "mimetype": "text/x-python",
   "name": "python",
   "nbconvert_exporter": "python",
   "pygments_lexer": "ipython3",
   "version": "3.12.3"
  }
 },
 "nbformat": 4,
 "nbformat_minor": 2
}
